{
  "nbformat": 4,
  "nbformat_minor": 0,
  "metadata": {
    "colab": {
      "provenance": [],
      "authorship_tag": "ABX9TyO6SaezHb1szPbYCqfUzfY4",
      "include_colab_link": true
    },
    "kernelspec": {
      "name": "python3",
      "display_name": "Python 3"
    },
    "language_info": {
      "name": "python"
    }
  },
  "cells": [
    {
      "cell_type": "markdown",
      "metadata": {
        "id": "view-in-github",
        "colab_type": "text"
      },
      "source": [
        "<a href=\"https://colab.research.google.com/github/JanMeow/BFHWebDev/blob/main/0802Hack.ipynb\" target=\"_parent\"><img src=\"https://colab.research.google.com/assets/colab-badge.svg\" alt=\"Open In Colab\"/></a>"
      ]
    },
    {
      "cell_type": "markdown",
      "source": [
        "# Load IFC"
      ],
      "metadata": {
        "id": "xpaksOhYOWG3"
      }
    },
    {
      "cell_type": "code",
      "execution_count": 2,
      "metadata": {
        "colab": {
          "base_uri": "https://localhost:8080/"
        },
        "id": "NiZ2oQReDIbS",
        "outputId": "4a7e3862-bf56-4447-920b-11f01ea4986f"
      },
      "outputs": [
        {
          "output_type": "stream",
          "name": "stdout",
          "text": [
            "Collecting lark\n",
            "  Downloading lark-1.2.2-py3-none-any.whl.metadata (1.8 kB)\n",
            "Downloading lark-1.2.2-py3-none-any.whl (111 kB)\n",
            "\u001b[?25l   \u001b[90m━━━━━━━━━━━━━━━━━━━━━━━━━━━━━━━━━━━━━━━━\u001b[0m \u001b[32m0.0/111.0 kB\u001b[0m \u001b[31m?\u001b[0m eta \u001b[36m-:--:--\u001b[0m\r\u001b[2K   \u001b[90m━━━━━━━━━━━━━━━━━━━━━━━━━━━━━━━━━━━━━━━━\u001b[0m \u001b[32m111.0/111.0 kB\u001b[0m \u001b[31m3.8 MB/s\u001b[0m eta \u001b[36m0:00:00\u001b[0m\n",
            "\u001b[?25hInstalling collected packages: lark\n",
            "Successfully installed lark-1.2.2\n",
            "Requirement already satisfied: numpy in /usr/local/lib/python3.11/dist-packages (1.26.4)\n",
            "Requirement already satisfied: shapely in /usr/local/lib/python3.11/dist-packages (2.0.7)\n",
            "Requirement already satisfied: numpy<3,>=1.14 in /usr/local/lib/python3.11/dist-packages (from shapely) (1.26.4)\n",
            "Collecting mathutils\n",
            "  Downloading mathutils-3.3.0.tar.gz (245 kB)\n",
            "\u001b[2K     \u001b[90m━━━━━━━━━━━━━━━━━━━━━━━━━━━━━━━━━━━━━━━━\u001b[0m \u001b[32m245.4/245.4 kB\u001b[0m \u001b[31m6.5 MB/s\u001b[0m eta \u001b[36m0:00:00\u001b[0m\n",
            "\u001b[?25h  Preparing metadata (setup.py) ... \u001b[?25l\u001b[?25hdone\n",
            "Building wheels for collected packages: mathutils\n",
            "  Building wheel for mathutils (setup.py) ... \u001b[?25l\u001b[?25hdone\n",
            "  Created wheel for mathutils: filename=mathutils-3.3.0-cp311-cp311-linux_x86_64.whl size=669908 sha256=8786d26f46223ab080b720d262d192df86a0d4c004acf99fc5deb0ca4cddb5e1\n",
            "  Stored in directory: /root/.cache/pip/wheels/49/bb/9e/86bd4d162535e81c0f80c64918acf23d920ed0123430d5b4a0\n",
            "Successfully built mathutils\n",
            "Installing collected packages: mathutils\n",
            "Successfully installed mathutils-3.3.0\n",
            "Collecting ifcopenshell\n",
            "  Downloading ifcopenshell-0.8.1-py311-none-manylinux_2_31_x86_64.whl.metadata (11 kB)\n",
            "Requirement already satisfied: shapely in /usr/local/lib/python3.11/dist-packages (from ifcopenshell) (2.0.7)\n",
            "Requirement already satisfied: numpy in /usr/local/lib/python3.11/dist-packages (from ifcopenshell) (1.26.4)\n",
            "Collecting isodate (from ifcopenshell)\n",
            "  Downloading isodate-0.7.2-py3-none-any.whl.metadata (11 kB)\n",
            "Requirement already satisfied: python-dateutil in /usr/local/lib/python3.11/dist-packages (from ifcopenshell) (2.8.2)\n",
            "Requirement already satisfied: lark in /usr/local/lib/python3.11/dist-packages (from ifcopenshell) (1.2.2)\n",
            "Requirement already satisfied: typing-extensions in /usr/local/lib/python3.11/dist-packages (from ifcopenshell) (4.12.2)\n",
            "Requirement already satisfied: six>=1.5 in /usr/local/lib/python3.11/dist-packages (from python-dateutil->ifcopenshell) (1.17.0)\n",
            "Downloading ifcopenshell-0.8.1-py311-none-manylinux_2_31_x86_64.whl (40.8 MB)\n",
            "\u001b[2K   \u001b[90m━━━━━━━━━━━━━━━━━━━━━━━━━━━━━━━━━━━━━━━━\u001b[0m \u001b[32m40.8/40.8 MB\u001b[0m \u001b[31m22.8 MB/s\u001b[0m eta \u001b[36m0:00:00\u001b[0m\n",
            "\u001b[?25hDownloading isodate-0.7.2-py3-none-any.whl (22 kB)\n",
            "Installing collected packages: isodate, ifcopenshell\n",
            "Successfully installed ifcopenshell-0.8.1 isodate-0.7.2\n"
          ]
        }
      ],
      "source": [
        "!pip install lark\n",
        "!pip install numpy\n",
        "!pip install shapely\n",
        "!pip install mathutils\n",
        "!pip install ifcopenshell\n",
        "# !pip install compas"
      ]
    },
    {
      "cell_type": "code",
      "source": [
        "import ifcopenshell.util\n",
        "import ifcopenshell.util.element\n",
        "\n",
        "model0 = ifcopenshell.open(\"ifc0.ifc\") # Load our IFC model\n",
        "\n",
        "print(model0.schema) # What's the IFC version?\n",
        "\n",
        "targets = model0.by_type(\"IfcElement\")\n",
        "print(len(targets))"
      ],
      "metadata": {
        "colab": {
          "base_uri": "https://localhost:8080/"
        },
        "id": "wIq53bpoFcXo",
        "outputId": "ba762a89-c4e5-4cc9-f489-b6e6436211fb"
      },
      "execution_count": 4,
      "outputs": [
        {
          "output_type": "stream",
          "name": "stdout",
          "text": [
            "IFC4\n",
            "83\n"
          ]
        }
      ]
    },
    {
      "cell_type": "code",
      "source": [
        "model1 = ifcopenshell.open(\"ifc1.ifc\") # Load our IFC model\n",
        "\n",
        "print(model1.schema) # What's the IFC version?\n",
        "\n",
        "targets = model1.by_type(\"IfcElement\")\n",
        "print(len(targets))"
      ],
      "metadata": {
        "colab": {
          "base_uri": "https://localhost:8080/"
        },
        "id": "NvfzyPXYMwp1",
        "outputId": "53b55e0d-79da-41ae-f850-2f8b3bf143a2"
      },
      "execution_count": 5,
      "outputs": [
        {
          "output_type": "stream",
          "name": "stdout",
          "text": [
            "IFC4\n",
            "186\n"
          ]
        }
      ]
    },
    {
      "cell_type": "markdown",
      "source": [
        "# Traverse Through the ifc"
      ],
      "metadata": {
        "id": "gdiwKteyOZpi"
      }
    },
    {
      "cell_type": "code",
      "source": [
        "from collections import deque\n",
        "\n",
        "\n",
        "def bfs_traverse(base_node, list_contained_elements = True, func = None):\n",
        "\n",
        "  queue = deque([base_node])\n",
        "  depth = 0\n",
        "  result = []\n",
        "\n",
        "  while len(queue) !=0 :\n",
        "\n",
        "    current_node = queue.popleft()\n",
        "    print(f\"CURRENT DEPTH : {depth} [TYPE] {current_node.is_a()} [GUID] ({current_node.GlobalId}) [NAME] {current_node.Name}\")\n",
        "\n",
        "\n",
        "    # if hasattr(current_node, \"PredefinedType\"):\n",
        "    #   print(f\"Predefined Type: {current_node.PredefinedType}\")\n",
        "\n",
        "    if func:\n",
        "      print(func(current_node))\n",
        "      result.append(func(current_node))\n",
        "\n",
        "    if hasattr(current_node, \"ContainsElements\") and len(current_node.ContainsElements) != 0:\n",
        "\n",
        "      for element_rel in current_node.ContainsElements:\n",
        "        print(f\"Contained Elements: {len(element_rel.RelatedElements)}\")\n",
        "        if list_contained_elements:\n",
        "          for child_element in element_rel.RelatedElements:\n",
        "            queue.append(child_element)\n",
        "\n",
        "\n",
        "\n",
        "\n",
        "    if hasattr(current_node, \"IsDecomposedBy\") and len(current_node.IsDecomposedBy) != 0:\n",
        "      depth +=1\n",
        "      for child_rel in current_node.IsDecomposedBy:\n",
        "        print(f\"Number of child: {len(child_rel.RelatedObjects)}\")\n",
        "        for child_obj in child_rel.RelatedObjects:\n",
        "          queue.append(child_obj)\n",
        "\n",
        "\n",
        "  print(\"Function ended, No more spatial child\")\n",
        "  return result"
      ],
      "metadata": {
        "id": "7aubjU0vF13G"
      },
      "execution_count": 6,
      "outputs": []
    },
    {
      "cell_type": "code",
      "source": [
        "root = model1.by_type(\"IfcProject\")[0]\n",
        "bfs_traverse(root, True, None)"
      ],
      "metadata": {
        "colab": {
          "base_uri": "https://localhost:8080/"
        },
        "id": "iph_6xrRFRiX",
        "outputId": "3dc34bc7-c432-41dc-d3bd-cd71b31c2804"
      },
      "execution_count": 7,
      "outputs": [
        {
          "output_type": "stream",
          "name": "stdout",
          "text": [
            "CURRENT DEPTH : 0 [TYPE] IfcProject [GUID] (3miTfNL$L71QyUe3gXAoxs) [NAME] Elementproduktion Neubau MFH Steiger Kriens\n",
            "Number of child: 1\n",
            "CURRENT DEPTH : 1 [TYPE] IfcSite [GUID] (1SzEa5YqbDIwySB1POkj_Z) [NAME] \n",
            "Number of child: 1\n",
            "CURRENT DEPTH : 2 [TYPE] IfcBuilding [GUID] (3dxf9WLe53_u7e_bPqmRyD) [NAME] Gebäude 1\n",
            "Number of child: 1\n",
            "CURRENT DEPTH : 3 [TYPE] IfcBuildingStorey [GUID] (0pMiGmcY16khkKwpZo2SSm) [NAME] Geschoss 1\n",
            "Contained Elements: 186\n",
            "CURRENT DEPTH : 3 [TYPE] IfcBeam [GUID] (1AgH95SW53R8Ty1FOWUW43) [NAME] \n",
            "CURRENT DEPTH : 3 [TYPE] IfcBeam [GUID] (1KOT4FRQHCRgSKRCSO1b3L) [NAME] BALKEN\n",
            "CURRENT DEPTH : 3 [TYPE] IfcBeam [GUID] (3B5zlsgnn3yQQsKceDiDur) [NAME] BALKEN\n",
            "CURRENT DEPTH : 3 [TYPE] IfcBeam [GUID] (05H_FC$n5FFB5WMTBJFqIp) [NAME] BALKEN\n",
            "CURRENT DEPTH : 3 [TYPE] IfcBeam [GUID] (0SR1SVWzvCCOr2oCYBptB6) [NAME] BALKEN\n",
            "CURRENT DEPTH : 3 [TYPE] IfcBeam [GUID] (2rbMQwG4TDkQBbUCssngru) [NAME] BALKEN\n",
            "CURRENT DEPTH : 3 [TYPE] IfcBeam [GUID] (15Q_2ddvX0Vxz2afw3sw7j) [NAME] BALKEN\n",
            "CURRENT DEPTH : 3 [TYPE] IfcBeam [GUID] (1IDvcWy2P87AhZ1FsxSl39) [NAME] BALKEN\n",
            "CURRENT DEPTH : 3 [TYPE] IfcBeam [GUID] (1IkSNUOsHChxTSIkxZviqk) [NAME] BALKEN\n",
            "CURRENT DEPTH : 3 [TYPE] IfcBeam [GUID] (3tumeC$JXEyPFGq4SlLqCp) [NAME] BALKEN\n",
            "CURRENT DEPTH : 3 [TYPE] IfcBeam [GUID] (3oTQaSKMPC9QMqZolL6QTg) [NAME] Fachwerk\n",
            "CURRENT DEPTH : 3 [TYPE] IfcBeam [GUID] (3OFoD_OYT6bQjefD43n1ZZ) [NAME] Fachwerk\n",
            "CURRENT DEPTH : 3 [TYPE] IfcBeam [GUID] (29gumJqxz45eLGjq_7OIz$) [NAME] Fachwerk\n",
            "CURRENT DEPTH : 3 [TYPE] IfcBeam [GUID] (0zbAfN2WvBiefYrhv5xcv4) [NAME] Fachwerk\n",
            "CURRENT DEPTH : 3 [TYPE] IfcBuildingElementProxy [GUID] (3edz97X5z9hwr0wjL9OEF1) [NAME] Hüllkörper\n",
            "CURRENT DEPTH : 3 [TYPE] IfcBuildingElementProxy [GUID] (1zz9q_Gc10g8Y5dUKaIwfR) [NAME] Hüllkörper\n",
            "CURRENT DEPTH : 3 [TYPE] IfcBuildingElementProxy [GUID] (3uFlzfrA95xAiQOorlLzjO) [NAME] Hüllkörper\n",
            "CURRENT DEPTH : 3 [TYPE] IfcBuildingElementProxy [GUID] (3hP3TktpfEHuFubiINX0a$) [NAME] Hüllkörper\n",
            "CURRENT DEPTH : 3 [TYPE] IfcBuildingElementProxy [GUID] (1T__mmE_TBK9jw3D9nL$g$) [NAME] Hüllkörper\n",
            "CURRENT DEPTH : 3 [TYPE] IfcBuildingElementProxy [GUID] (1v21h9sM16LxTe4EYKjH6m) [NAME] Hüllkörper\n",
            "CURRENT DEPTH : 3 [TYPE] IfcBuildingElementProxy [GUID] (22XTVn9VvB0wJHsk6JVE_s) [NAME] Hüllkörper\n",
            "CURRENT DEPTH : 3 [TYPE] IfcBuildingElementProxy [GUID] (2jR31xG$5EJOMQVRYudHWF) [NAME] Hüllkörper\n",
            "CURRENT DEPTH : 3 [TYPE] IfcBuildingElementProxy [GUID] (2rzj0Qlb1D1B8o50A2ozww) [NAME] Hüllkörper\n",
            "CURRENT DEPTH : 3 [TYPE] IfcBuildingElementProxy [GUID] (36F6wykxD4ggrNg8DkBSBd) [NAME] Hüllkörper\n",
            "CURRENT DEPTH : 3 [TYPE] IfcBuildingElementProxy [GUID] (3k8gximy95Y9f1t5ZnusVi) [NAME] Hüllkörper\n",
            "CURRENT DEPTH : 3 [TYPE] IfcBuildingElementProxy [GUID] (04PKDvpIL8U9o5BiVUSFJa) [NAME] Hüllkörper\n",
            "CURRENT DEPTH : 3 [TYPE] IfcBuildingElementProxy [GUID] (1L$W5YlIbDy9kmK$ywJ5qV) [NAME] Hüllkörper\n",
            "CURRENT DEPTH : 3 [TYPE] IfcBuildingElementProxy [GUID] (2vvQilDH1EZwQ_g8qbXLyr) [NAME] Hüllkörper\n",
            "CURRENT DEPTH : 3 [TYPE] IfcBuildingElementProxy [GUID] (2pJB00DGrA9ejudS4GR3iD) [NAME] Hüllkörper\n",
            "CURRENT DEPTH : 3 [TYPE] IfcBuildingElementProxy [GUID] (2doEMqUAPAuRjlZQA_5OPA) [NAME] Hüllkörper\n",
            "CURRENT DEPTH : 3 [TYPE] IfcBuildingElementProxy [GUID] (2xbvOXSuDA0P7NPxSZbe4T) [NAME] Hüllkörper\n",
            "CURRENT DEPTH : 3 [TYPE] IfcBuildingElementProxy [GUID] (3rEx40WVHEtBXLheCyPEnA) [NAME] Hüllkörper\n",
            "CURRENT DEPTH : 3 [TYPE] IfcBuildingElementProxy [GUID] (3CndK_DRL99OHT37fFpA62) [NAME] Hüllkörper\n",
            "CURRENT DEPTH : 3 [TYPE] IfcBuildingElementProxy [GUID] (2D6n5vh5f3b9aOr0Nvuy8g) [NAME] Hüllkörper\n",
            "CURRENT DEPTH : 3 [TYPE] IfcBuildingElementProxy [GUID] (3PPLAjpCj8$OE6euRzkrXG) [NAME] Hüllkörper\n",
            "CURRENT DEPTH : 3 [TYPE] IfcBuildingElementProxy [GUID] (13GsW7EYb1Sg2DhhYasC0A) [NAME] Hüllkörper\n",
            "CURRENT DEPTH : 3 [TYPE] IfcBuildingElementProxy [GUID] (1EZflFQQLBEwtoYRmKBsEF) [NAME] Hüllkörper\n",
            "CURRENT DEPTH : 3 [TYPE] IfcBuildingElementProxy [GUID] (2uLClOVFjC0vWrjtAv6bX7) [NAME] Hüllkörper\n",
            "CURRENT DEPTH : 3 [TYPE] IfcBuildingElementProxy [GUID] (3bQPmp0Zb1COsgjgQAyErB) [NAME] Hüllkörper\n",
            "CURRENT DEPTH : 3 [TYPE] IfcBuildingElementProxy [GUID] (2KDAhybWDBzgzF3NaMoT3z) [NAME] Hüllkörper\n",
            "CURRENT DEPTH : 3 [TYPE] IfcBuildingElementProxy [GUID] (1ZXE1Cl1f08PZL4czgUkY$) [NAME] Hüllkörper\n",
            "CURRENT DEPTH : 3 [TYPE] IfcBuildingElementProxy [GUID] (1OXYf2Zj1ADvXcf8563XcN) [NAME] Hüllkörper\n",
            "CURRENT DEPTH : 3 [TYPE] IfcBuildingElementProxy [GUID] (3VCDOOAHv6ThLItoGdsYjG) [NAME] Hüllkörper\n",
            "CURRENT DEPTH : 3 [TYPE] IfcBuildingElementProxy [GUID] (1s8bkhf_H1NP2vBudB$Bzx) [NAME] Hüllkörper\n",
            "CURRENT DEPTH : 3 [TYPE] IfcBuildingElementProxy [GUID] (33W6zcEC9FQB6zeWKLfIgq) [NAME] Hüllkörper\n",
            "CURRENT DEPTH : 3 [TYPE] IfcBuildingElementProxy [GUID] (0sJ655kUzEgBAf2kqaOicM) [NAME] Hüllkörper\n",
            "CURRENT DEPTH : 3 [TYPE] IfcBuildingElementProxy [GUID] (3YHr1_KJ18vgeVAXSppt1d) [NAME] Hüllkörper\n",
            "CURRENT DEPTH : 3 [TYPE] IfcBuildingElementProxy [GUID] (3ssGI6Zw5E0AGC5$CTWUQI) [NAME] Hüllkörper\n",
            "CURRENT DEPTH : 3 [TYPE] IfcBuildingElementProxy [GUID] (0cMYCeEWXF0BHi77ah9vkb) [NAME] Hüllkörper\n",
            "CURRENT DEPTH : 3 [TYPE] IfcBuildingElementProxy [GUID] (2ZvKjhrgz2kuRx5v5Yu2Cw) [NAME] Hüllkörper\n",
            "CURRENT DEPTH : 3 [TYPE] IfcBuildingElementProxy [GUID] (3Wpz3yfy10YRcZPTeVoxp0) [NAME] Hüllkörper\n",
            "CURRENT DEPTH : 3 [TYPE] IfcBuildingElementProxy [GUID] (0AkXyM5wj1UvLP7npgxyBG) [NAME] Hüllkörper\n",
            "CURRENT DEPTH : 3 [TYPE] IfcBuildingElementProxy [GUID] (180HZ3S3z4gQjys1lAnuOx) [NAME] Hüllkörper\n",
            "CURRENT DEPTH : 3 [TYPE] IfcBuildingElementProxy [GUID] (0xB7$IEMP4aPDyHi8AdIcc) [NAME] Hüllkörper\n",
            "CURRENT DEPTH : 3 [TYPE] IfcBuildingElementProxy [GUID] (1SVbK4K8zAOgtOe61TXNSQ) [NAME] Hüllkörper\n",
            "CURRENT DEPTH : 3 [TYPE] IfcBuildingElementProxy [GUID] (1KN_u3HDb7dv$nWZpXkxdh) [NAME] Hüllkörper\n",
            "CURRENT DEPTH : 3 [TYPE] IfcBuildingElementProxy [GUID] (3vfpUCGHz0LxukOqjTjMfk) [NAME] Hüllkörper\n",
            "CURRENT DEPTH : 3 [TYPE] IfcBuildingElementProxy [GUID] (0oz3p$9on2YPo26EYlPSha) [NAME] Hüllkörper\n",
            "CURRENT DEPTH : 3 [TYPE] IfcBuildingElementProxy [GUID] (0DXBs6IwP9PAQ4eRX3EkiO) [NAME] Hüllkörper\n",
            "CURRENT DEPTH : 3 [TYPE] IfcBuildingElementProxy [GUID] (2IXgLVLcn0Wh1CZ0M7kwRx) [NAME] Hüllkörper\n",
            "CURRENT DEPTH : 3 [TYPE] IfcBuildingElementProxy [GUID] (1ZfSs7MDXFOunf6xIPmXzY) [NAME] Hüllkörper\n",
            "CURRENT DEPTH : 3 [TYPE] IfcBuildingElementProxy [GUID] (1$sPUi$sn4NQ8nhLtA_Ibl) [NAME] Hüllkörper\n",
            "CURRENT DEPTH : 3 [TYPE] IfcBuildingElementProxy [GUID] (3h$RfMCITFZgOu0HK$ntfZ) [NAME] Hüllkörper\n",
            "CURRENT DEPTH : 3 [TYPE] IfcBuildingElementProxy [GUID] (0alLEWpVjAwefOaVvOoie9) [NAME] Hüllkörper\n",
            "CURRENT DEPTH : 3 [TYPE] IfcBuildingElementProxy [GUID] (0fxVcktzL29vJf8JatgLCw) [NAME] Hüllkörper\n",
            "CURRENT DEPTH : 3 [TYPE] IfcBuildingElementProxy [GUID] (14uDs4LnX1pAh8TlL4BIAy) [NAME] Hüllkörper\n",
            "CURRENT DEPTH : 3 [TYPE] IfcBuildingElementProxy [GUID] (1W$jlZ7qj0APdL8Esyg9VI) [NAME] Hüllkörper\n",
            "CURRENT DEPTH : 3 [TYPE] IfcBuildingElementProxy [GUID] (3s4KhJlFPDoAJHi04QXE9j) [NAME] Hüllkörper\n",
            "CURRENT DEPTH : 3 [TYPE] IfcBuildingElementProxy [GUID] (1_ZPSYz$bAzheCu8QgdBM5) [NAME] Hüllkörper\n",
            "CURRENT DEPTH : 3 [TYPE] IfcBuildingElementProxy [GUID] (0rf$ZuiEz8suYGSDDIOliR) [NAME] Hüllkörper\n",
            "CURRENT DEPTH : 3 [TYPE] IfcBuildingElementProxy [GUID] (3umrUiEw13_ADLVwCs8LY0) [NAME] Hüllkörper\n",
            "CURRENT DEPTH : 3 [TYPE] IfcBuildingElementProxy [GUID] (3_rNfeg7fB0eaoOQW7SxJ0) [NAME] Hüllkörper\n",
            "CURRENT DEPTH : 3 [TYPE] IfcBuildingElementProxy [GUID] (1NgYdGC$53BAfmfU$o8h4$) [NAME] Hüllkörper\n",
            "CURRENT DEPTH : 3 [TYPE] IfcBuildingElementProxy [GUID] (0c2VtRQ9P8mQ4oVQMLegWR) [NAME] Hüllkörper\n",
            "CURRENT DEPTH : 3 [TYPE] IfcBuildingElementProxy [GUID] (3nGItE9Vn2LwNr7rp495gz) [NAME] Hüllkörper\n",
            "CURRENT DEPTH : 3 [TYPE] IfcBuildingElementProxy [GUID] (1jyUp2Q9D8dgeSyJhtRZq4) [NAME] Hüllkörper\n",
            "CURRENT DEPTH : 3 [TYPE] IfcBuildingElementProxy [GUID] (1NlSrQXwD2e9lv73pG$HjK) [NAME] Hüllkörper\n",
            "CURRENT DEPTH : 3 [TYPE] IfcBuildingElementProxy [GUID] (1cc7OMqf15NBJM5DcXIBWZ) [NAME] Hüllkörper\n",
            "CURRENT DEPTH : 3 [TYPE] IfcBuildingElementProxy [GUID] (31lyo_DaPF89E9hHR2H6vz) [NAME] Hüllkörper\n",
            "CURRENT DEPTH : 3 [TYPE] IfcBuildingElementProxy [GUID] (1JZnxSXP18Ifw5N6TOJ4MA) [NAME] Hüllkörper\n",
            "CURRENT DEPTH : 3 [TYPE] IfcBuildingElementProxy [GUID] (340NeFv3D8YueuXwgb91RV) [NAME] Hüllkörper\n",
            "CURRENT DEPTH : 3 [TYPE] IfcBuildingElementProxy [GUID] (2CNdlsHOLF4v9frO$u_w1K) [NAME] Hüllkörper\n",
            "CURRENT DEPTH : 3 [TYPE] IfcBuildingElementProxy [GUID] (1oOBu4Ah53yfHQgtd4PsUj) [NAME] Hüllkörper\n",
            "CURRENT DEPTH : 3 [TYPE] IfcBuildingElementProxy [GUID] (3rDOdLq_j6eP4dNSN3EWtp) [NAME] Hüllkörper\n",
            "CURRENT DEPTH : 3 [TYPE] IfcBuildingElementProxy [GUID] (1AIc7b3gP3yQLJVDPYbLVo) [NAME] Hüllkörper\n",
            "CURRENT DEPTH : 3 [TYPE] IfcBuildingElementProxy [GUID] (3QIW4Kxq92Yg1D7LbghuHp) [NAME] Hüllkörper\n",
            "CURRENT DEPTH : 3 [TYPE] IfcBuildingElementProxy [GUID] (2txeCvCzz5ZQLj4175UgtX) [NAME] Hüllkörper\n",
            "CURRENT DEPTH : 3 [TYPE] IfcBuildingElementProxy [GUID] (0s3Q4COL92iP$Rypj1ruwB) [NAME] Hüllkörper\n",
            "CURRENT DEPTH : 3 [TYPE] IfcBuildingElementProxy [GUID] (1_Jap6NMzEgA165A0ZSflH) [NAME] Hüllkörper\n",
            "CURRENT DEPTH : 3 [TYPE] IfcBuildingElementProxy [GUID] (2R7i9Uy8n9NgGldiURbLdq) [NAME] Hüllkörper\n",
            "CURRENT DEPTH : 3 [TYPE] IfcBuildingElementProxy [GUID] (079J3YnzvE$gjrItr2ZV8a) [NAME] Hüllkörper\n",
            "CURRENT DEPTH : 3 [TYPE] IfcBuildingElementProxy [GUID] (20f7cuwxz5_AQEwpazGUqz) [NAME] Hüllkörper\n",
            "CURRENT DEPTH : 3 [TYPE] IfcBuildingElementProxy [GUID] (2r31r_SDbEoufU58JdY4Jk) [NAME] Hüllkörper\n",
            "CURRENT DEPTH : 3 [TYPE] IfcBuildingElementProxy [GUID] (3NwU6USg9AuO4Q_wgNRuWa) [NAME] Hüllkörper\n",
            "CURRENT DEPTH : 3 [TYPE] IfcBuildingElementProxy [GUID] (2No2hs21j3fAdYj6tvkzhx) [NAME] Hüllkörper\n",
            "CURRENT DEPTH : 3 [TYPE] IfcBuildingElementProxy [GUID] (3nLz93O$v6rO5CdfrA8ARq) [NAME] Hüllkörper\n",
            "CURRENT DEPTH : 3 [TYPE] IfcBuildingElementProxy [GUID] (1nQv6Z$PfELAlU39f8R9a9) [NAME] Hüllkörper\n",
            "CURRENT DEPTH : 3 [TYPE] IfcBuildingElementProxy [GUID] (21ac8ZpA9B6B$zIPNJHBZB) [NAME] Hüllkörper\n",
            "CURRENT DEPTH : 3 [TYPE] IfcBuildingElementProxy [GUID] (2VfLZ1BmrDIw4dA5aL$xb1) [NAME] Hüllkörper\n",
            "CURRENT DEPTH : 3 [TYPE] IfcBuildingElementProxy [GUID] (2_ytYep6P79Rw7Q_lrmiDp) [NAME] Hüllkörper\n",
            "CURRENT DEPTH : 3 [TYPE] IfcBuildingElementProxy [GUID] (0GPja27bb49vcMgvf1AByK) [NAME] Hüllkörper\n",
            "CURRENT DEPTH : 3 [TYPE] IfcBuildingElementProxy [GUID] (20FMqs10H0WANIjixdkMLK) [NAME] Hüllkörper\n",
            "CURRENT DEPTH : 3 [TYPE] IfcBuildingElementProxy [GUID] (2eseriQ5X4HuwNMUDf9Mr3) [NAME] Hüllkörper\n",
            "CURRENT DEPTH : 3 [TYPE] IfcBuildingElementProxy [GUID] (06nvdZ9eD2hRHyN$osqr9$) [NAME] Hüllkörper\n",
            "CURRENT DEPTH : 3 [TYPE] IfcBuildingElementProxy [GUID] (2Y6ksOHIDCaeRTJ$Z7WG7l) [NAME] Hüllkörper\n",
            "CURRENT DEPTH : 3 [TYPE] IfcBuildingElementProxy [GUID] (1In0urjsD5nfjxUhEdhr4g) [NAME] Hüllkörper\n",
            "CURRENT DEPTH : 3 [TYPE] IfcBuildingElementProxy [GUID] (3o14as6$P1GQOeedYgIq1J) [NAME] Hüllkörper\n",
            "CURRENT DEPTH : 3 [TYPE] IfcBuildingElementProxy [GUID] (13JTbQQ_1B4gYte7R3h$n$) [NAME] Hüllkörper\n",
            "CURRENT DEPTH : 3 [TYPE] IfcBuildingElementProxy [GUID] (35fAvctbD7Pw_OqjwgBj7j) [NAME] Hüllkörper\n",
            "CURRENT DEPTH : 3 [TYPE] IfcBuildingElementProxy [GUID] (1mo6F1jRf2M9M$0mJ3Av7s) [NAME] Hüllkörper\n",
            "CURRENT DEPTH : 3 [TYPE] IfcColumn [GUID] (3Jd8riwVDBF8C$jSptIOPB) [NAME] BALKEN\n",
            "CURRENT DEPTH : 3 [TYPE] IfcColumn [GUID] (2MDHkGU$z5ZfKoR$eS2q$g) [NAME] BALKEN\n",
            "CURRENT DEPTH : 3 [TYPE] IfcColumn [GUID] (3zt1_TBxn0n8PyEh$DDuMa) [NAME] BALKEN\n",
            "CURRENT DEPTH : 3 [TYPE] IfcColumn [GUID] (3RsyFDCnP4gw$jjGuT9spL) [NAME] BALKEN\n",
            "CURRENT DEPTH : 3 [TYPE] IfcColumn [GUID] (19tC0Vylb6ngMFQTDEOKTw) [NAME] BALKEN\n",
            "CURRENT DEPTH : 3 [TYPE] IfcColumn [GUID] (0Kj8RX6QL1$wlFJM4q$Tq0) [NAME] BALKEN\n",
            "CURRENT DEPTH : 3 [TYPE] IfcColumn [GUID] (10ER9KgEH9qu$yygBckVvk) [NAME] BALKEN\n",
            "CURRENT DEPTH : 3 [TYPE] IfcColumn [GUID] (3XwrvJSDH2fR858frmVg$N) [NAME] BALKEN\n",
            "CURRENT DEPTH : 3 [TYPE] IfcColumn [GUID] (0H$6w1ZYH0iOjv$lFmZeWT) [NAME] BALKEN\n",
            "CURRENT DEPTH : 3 [TYPE] IfcColumn [GUID] (1bM9cwNVX6ExvEFV6m4UV_) [NAME] BALKEN\n",
            "CURRENT DEPTH : 3 [TYPE] IfcColumn [GUID] (1TfxOg3LnAKw96_yhJmzIf) [NAME] BALKEN\n",
            "CURRENT DEPTH : 3 [TYPE] IfcColumn [GUID] (3qdXgXjov6yf0bY2QsyegE) [NAME] BALKEN\n",
            "CURRENT DEPTH : 3 [TYPE] IfcColumn [GUID] (2vKT5VnZzD9PAGagUVDgpj) [NAME] BALKEN\n",
            "CURRENT DEPTH : 3 [TYPE] IfcColumn [GUID] (3Ph5m$rm54LRrpYgr5uJMy) [NAME] BALKEN\n",
            "CURRENT DEPTH : 3 [TYPE] IfcColumn [GUID] (1X9vwACSrA6eC3NmlY0IXZ) [NAME] BALKEN\n",
            "CURRENT DEPTH : 3 [TYPE] IfcColumn [GUID] (3N93TKzMX0p8y4yVDt$kxC) [NAME] BALKEN\n",
            "CURRENT DEPTH : 3 [TYPE] IfcColumn [GUID] (2C13$Bkrr8dP6_SXtEFIB8) [NAME] BALKEN\n",
            "CURRENT DEPTH : 3 [TYPE] IfcColumn [GUID] (1JNe9ymcP1rRyhs6GMFy8u) [NAME] BALKEN\n",
            "CURRENT DEPTH : 3 [TYPE] IfcColumn [GUID] (2Oka5B$qLDhxIOiu_dGPEE) [NAME] BALKEN\n",
            "CURRENT DEPTH : 3 [TYPE] IfcColumn [GUID] (302$WNL1T7QA2Smj074I7h) [NAME] BALKEN\n",
            "CURRENT DEPTH : 3 [TYPE] IfcColumn [GUID] (3l0SqX7m9289wiobDGuZlx) [NAME] BALKEN\n",
            "CURRENT DEPTH : 3 [TYPE] IfcColumn [GUID] (0ts$fRA7X24x8pmQWDjpi2) [NAME] BALKEN\n",
            "CURRENT DEPTH : 3 [TYPE] IfcColumn [GUID] (3KofNY5lHFmA_GQRPwNtb2) [NAME] BALKEN\n",
            "CURRENT DEPTH : 3 [TYPE] IfcColumn [GUID] (3NUx8JrJrCaPvbrGPELkR5) [NAME] BALKEN\n",
            "CURRENT DEPTH : 3 [TYPE] IfcColumn [GUID] (2SIPyioR9FfQX$7WZmaXDL) [NAME] BALKEN\n",
            "CURRENT DEPTH : 3 [TYPE] IfcColumn [GUID] (2xw7NSOiT2BuOXu3YG12VN) [NAME] BALKEN\n",
            "CURRENT DEPTH : 3 [TYPE] IfcColumn [GUID] (1iWtVeURX3rPXCj$guM8e6) [NAME] BALKEN\n",
            "CURRENT DEPTH : 3 [TYPE] IfcColumn [GUID] (0kxuZxSTf9tgSukpUMxT3f) [NAME] BALKEN\n",
            "CURRENT DEPTH : 3 [TYPE] IfcMember [GUID] (0V$WEBTR54NgzzfiyMPJWs) [NAME] BALKEN\n",
            "CURRENT DEPTH : 3 [TYPE] IfcMember [GUID] (3Mgk8cxwn9pfEx$Zodvk0o) [NAME] BALKEN\n",
            "CURRENT DEPTH : 3 [TYPE] IfcMember [GUID] (3kiN5Xy$TAtvSrNLIh4sF4) [NAME] BALKEN\n",
            "CURRENT DEPTH : 3 [TYPE] IfcMember [GUID] (2zJMmRGs1A09CroXJH98jh) [NAME] BALKEN\n",
            "CURRENT DEPTH : 3 [TYPE] IfcMember [GUID] (0kdmNEj_TAUAqeltz5MH4E) [NAME] BALKEN\n",
            "CURRENT DEPTH : 3 [TYPE] IfcMember [GUID] (3S$_3zKfL2BeAacPQ72kqb) [NAME] BALKEN\n",
            "CURRENT DEPTH : 3 [TYPE] IfcMember [GUID] (2xRCTnzfbB_xKbuALHTDGY) [NAME] BALKEN\n",
            "CURRENT DEPTH : 3 [TYPE] IfcMember [GUID] (00YKXrKcDDMRe3roLRUjLZ) [NAME] BALKEN\n",
            "CURRENT DEPTH : 3 [TYPE] IfcMember [GUID] (1fSRhb8Pf1ZeABSU4lR_44) [NAME] BALKEN\n",
            "CURRENT DEPTH : 3 [TYPE] IfcMember [GUID] (1HNO_G3j5CZAW8ZIXD_iYM) [NAME] BALKEN\n",
            "CURRENT DEPTH : 3 [TYPE] IfcMember [GUID] (0BQa_1CmDAOgkN3FFlLppK) [NAME] Fachwerk\n",
            "CURRENT DEPTH : 3 [TYPE] IfcMember [GUID] (1NzGPYgiz7LAXU6Hm9gDCm) [NAME] Fachwerk\n",
            "CURRENT DEPTH : 3 [TYPE] IfcMember [GUID] (2DEU1WFAP4e8AF7lguozjc) [NAME] Fachwerk\n",
            "CURRENT DEPTH : 3 [TYPE] IfcMember [GUID] (0uyMBdDzH8qw0_ZkV4uTo0) [NAME] Fachwerk\n",
            "CURRENT DEPTH : 3 [TYPE] IfcMember [GUID] (31qpdnOCLBVPxxl1pxBLmo) [NAME] Fachwerk\n",
            "CURRENT DEPTH : 3 [TYPE] IfcMember [GUID] (2J_h2BPXv9tvzBY8GnrQWr) [NAME] Fachwerk\n",
            "CURRENT DEPTH : 3 [TYPE] IfcMember [GUID] (0kqHM6u3nAtROQ1NqNJ1yI) [NAME] Fachwerk\n",
            "CURRENT DEPTH : 3 [TYPE] IfcMember [GUID] (2d9M9IoA50YgLBIj8TaYS4) [NAME] Fachwerk\n",
            "CURRENT DEPTH : 3 [TYPE] IfcMember [GUID] (3IIYLXanLEY94ciWckjsCc) [NAME] Fachwerk\n",
            "CURRENT DEPTH : 3 [TYPE] IfcMember [GUID] (1_vwepXMHCiPv793ZEDv_4) [NAME] Fachwerk\n",
            "CURRENT DEPTH : 3 [TYPE] IfcMember [GUID] (1zDEIH82nAaRNy32ntNaK8) [NAME] Fachwerk\n",
            "CURRENT DEPTH : 3 [TYPE] IfcMember [GUID] (2UKx4_RY5A7e25LhqHLWA5) [NAME] Fachwerk\n",
            "CURRENT DEPTH : 3 [TYPE] IfcMember [GUID] (1_fO64jDn1DvCJUc4CzetL) [NAME] Fachwerk\n",
            "CURRENT DEPTH : 3 [TYPE] IfcMember [GUID] (19gKuiVHz6Jecu7VZ_JqpH) [NAME] Fachwerk\n",
            "CURRENT DEPTH : 3 [TYPE] IfcMember [GUID] (1wbDD59hn2fvkz0T7d$R9a) [NAME] Fachwerk\n",
            "CURRENT DEPTH : 3 [TYPE] IfcMember [GUID] (1feKhVIO9CiAr0EVktp$hT) [NAME] Fachwerk\n",
            "CURRENT DEPTH : 3 [TYPE] IfcMember [GUID] (23aw1lDEXD$8h64k9nX0bP) [NAME] Fachwerk\n",
            "CURRENT DEPTH : 3 [TYPE] IfcMember [GUID] (3d3Elhuh14OwFSdLun34nV) [NAME] Fachwerk\n",
            "CURRENT DEPTH : 3 [TYPE] IfcMember [GUID] (1vWGRh5yTAgOmO6eeRYDy5) [NAME] Fachwerk\n",
            "CURRENT DEPTH : 3 [TYPE] IfcMember [GUID] (0h3N8hRPn9JBRCyPs33$C6) [NAME] Fachwerk\n",
            "CURRENT DEPTH : 3 [TYPE] IfcPlate [GUID] (1713FkkqT7ahiewkyy2Awr) [NAME] MASSIVBAU\n",
            "CURRENT DEPTH : 3 [TYPE] IfcPlate [GUID] (2r96lA0An0NwRBAVwiK2_y) [NAME] MASSIVBAU\n",
            "CURRENT DEPTH : 3 [TYPE] IfcPlate [GUID] (0wBbn60vTDFQIBJSt2Kxu1) [NAME] MASSIVBAU\n",
            "CURRENT DEPTH : 3 [TYPE] IfcPlate [GUID] (0_zmKGFZT4kxo63gRspfz4) [NAME] MASSIVBAU\n",
            "CURRENT DEPTH : 3 [TYPE] IfcPlate [GUID] (0cjix4m455BA$$o$flg5j2) [NAME] MASSIVBAU\n",
            "CURRENT DEPTH : 3 [TYPE] IfcPlate [GUID] (3mIi9x$yT98v13Zy_bO1CS) [NAME] MASSIVBAU\n",
            "CURRENT DEPTH : 3 [TYPE] IfcPlate [GUID] (3t8u5HudD739eegR4TRdMC) [NAME] MASSIVBAU\n",
            "CURRENT DEPTH : 3 [TYPE] IfcPlate [GUID] (0Yc4syf4PDDxAS1zEju1yE) [NAME] MASSIVBAU\n",
            "CURRENT DEPTH : 3 [TYPE] IfcPlate [GUID] (2NOjpT$$H2AgwcqQzaEsml) [NAME] MASSIVBAU\n",
            "CURRENT DEPTH : 3 [TYPE] IfcPlate [GUID] (1ukZDtp$zCfAE3wiM7aNVz) [NAME] MASSIVBAU\n",
            "CURRENT DEPTH : 3 [TYPE] IfcPlate [GUID] (0HhC2zw0b2QxJr2VUvjxAk) [NAME] MASSIVBAU\n",
            "CURRENT DEPTH : 3 [TYPE] IfcWall [GUID] (33XRY4NB55XwyWCOVwXcsU) [NAME] Hüllkörper\n",
            "CURRENT DEPTH : 3 [TYPE] IfcWall [GUID] (0DSuH8t998Hhqax8L4LqFc) [NAME] Hüllkörper\n",
            "CURRENT DEPTH : 3 [TYPE] IfcWall [GUID] (3cvnlegwL1XfRQt$Dky8EZ) [NAME] Hüllkörper\n",
            "CURRENT DEPTH : 3 [TYPE] IfcWall [GUID] (3JLg7D0o1AxAApPtQkhzFE) [NAME] Hüllkörper\n",
            "CURRENT DEPTH : 3 [TYPE] IfcWall [GUID] (068F5TC_v4EQ3ubAAEbl3W) [NAME] Hüllkörper\n",
            "CURRENT DEPTH : 3 [TYPE] IfcWall [GUID] (2qKUPk0Mr8Dw_zXf4gWsYG) [NAME] Hüllkörper\n",
            "CURRENT DEPTH : 3 [TYPE] IfcWall [GUID] (365vuaVxj5$ecwv8qdJdx0) [NAME] Hüllkörper\n",
            "Function ended, No more spatial child\n"
          ]
        },
        {
          "output_type": "execute_result",
          "data": {
            "text/plain": [
              "[]"
            ]
          },
          "metadata": {},
          "execution_count": 7
        }
      ]
    },
    {
      "cell_type": "markdown",
      "source": [
        "#Get Geometry Data"
      ],
      "metadata": {
        "id": "Qg80g19BOSzw"
      }
    },
    {
      "cell_type": "code",
      "source": [
        "import numpy as np\n",
        "import ifcopenshell\n",
        "import ifcopenshell.geom\n",
        "import ifcopenshell.util.shape\n",
        "\n",
        "\n",
        "def get_geometry_info(entity, get_global = False):\n",
        "\n",
        "\n",
        "  result = None\n",
        "  if hasattr(entity, \"Representation\"):\n",
        "    if entity.Representation != None:\n",
        "      settings = ifcopenshell.geom.settings()\n",
        "      shape = ifcopenshell.geom.create_shape(settings, entity)\n",
        "\n",
        "      points  = ifcopenshell.util.shape.get_vertices(shape.geometry)\n",
        "      T_matrix = ifcopenshell.util.shape.get_shape_matrix(shape)\n",
        "      faceVertexIndices = list(shape.geometry.faces)\n",
        "\n",
        "      result = [T_matrix, points, faceVertexIndices]\n",
        "\n",
        "      if get_global:\n",
        "        grouped_verts = ifcopenshell.util.shape.get_vertices(shape.geometry)\n",
        "        ones = np.ones(shape = (grouped_verts.shape[0],1))\n",
        "        stacked = np.hstack((grouped_verts, ones))\n",
        "        global_coor = stacked@ T_matrix.T\n",
        "        global_coor = np.around(global_coor[:,0:-1],2)\n",
        "\n",
        "        result.append(global_coor)\n",
        "\n",
        "  return result\n"
      ],
      "metadata": {
        "id": "inAXSiC4NAsY"
      },
      "execution_count": 8,
      "outputs": []
    },
    {
      "cell_type": "code",
      "source": [
        "column = model1.by_type(\"IfcColumn\")[0]\n",
        "print(column)\n",
        "\n",
        "proxy = model1.by_guid(\"3hP3TktpfEHuFubiINX0a$\")\n",
        "print(proxy)\n",
        "print(proxy.__dir__())\n"
      ],
      "metadata": {
        "colab": {
          "base_uri": "https://localhost:8080/"
        },
        "id": "FeHB3AkqOzwP",
        "outputId": "813b875a-b074-4061-f2bc-9cf8a606d99c"
      },
      "execution_count": 9,
      "outputs": [
        {
          "output_type": "stream",
          "name": "stdout",
          "text": [
            "#1108=IfcColumn('0kxuZxSTf9tgSukpUMxT3f',#7,'BALKEN','',$,#1111,#1116,$,.COLUMN.)\n",
            "#7365=IfcBuildingElementProxy('3hP3TktpfEHuFubiINX0a$',#7,'Hüllkörper','',$,#7366,#7371,$,.NOTDEFINED.)\n",
            "['ConnectedFrom', 'ConnectedTo', 'ContainedInStructure', 'Declares', 'Decomposes', 'Description', 'FillsVoids', 'GlobalId', 'HasAssignments', 'HasAssociations', 'HasContext', 'HasCoverings', 'HasOpenings', 'HasProjections', 'InterferesElements', 'IsConnectionRealization', 'IsDeclaredBy', 'IsDecomposedBy', 'IsDefinedBy', 'IsInterferedByElements', 'IsNestedBy', 'IsTypedBy', 'Name', 'Nests', 'ObjectPlacement', 'ObjectType', 'OwnerHistory', 'PredefinedType', 'ProvidesBoundaries', 'ReferencedBy', 'ReferencedInStructures', 'Representation', 'Tag', '__annotations__', '__class__', '__del__', '__delattr__', '__dict__', '__dir__', '__doc__', '__eq__', '__format__', '__ge__', '__getattr__', '__getattribute__', '__getitem__', '__getstate__', '__gt__', '__hash__', '__init__', '__init_subclass__', '__le__', '__len__', '__lt__', '__module__', '__ne__', '__new__', '__reduce__', '__reduce_ex__', '__repr__', '__rge__', '__rgt__', '__rle__', '__rlt__', '__setattr__', '__setitem__', '__sizeof__', '__str__', '__subclasshook__', '__weakref__', 'attribute_name', 'attribute_type', 'compare', 'file', 'get_info', 'get_info_2', 'id', 'is_a', 'is_entity', 'to_string', 'unwrap_value', 'walk', 'wrap_value']\n"
          ]
        }
      ]
    },
    {
      "cell_type": "code",
      "source": [
        "beam = model1.by_type(\"IfcBeam\")[0]\n",
        "print(beam)\n",
        "beam.Representation"
      ],
      "metadata": {
        "colab": {
          "base_uri": "https://localhost:8080/"
        },
        "id": "rke4fE9g8lUa",
        "outputId": "851b9f79-0d27-481e-b6eb-b60b83bd1d59"
      },
      "execution_count": 10,
      "outputs": [
        {
          "output_type": "stream",
          "name": "stdout",
          "text": [
            "#411=IfcBeam('1AgH95SW53R8Ty1FOWUW43',#7,'','',$,#414,#419,$,.BEAM.)\n"
          ]
        },
        {
          "output_type": "execute_result",
          "data": {
            "text/plain": [
              "#419=IfcProductDefinitionShape($,$,(#420))"
            ]
          },
          "metadata": {},
          "execution_count": 10
        }
      ]
    },
    {
      "cell_type": "code",
      "source": [
        "print(proxy.GlobalId)"
      ],
      "metadata": {
        "colab": {
          "base_uri": "https://localhost:8080/"
        },
        "id": "fgh9fqp7R0tH",
        "outputId": "2421008b-d1ed-470a-fe9b-a9bf5fe3a27d"
      },
      "execution_count": 11,
      "outputs": [
        {
          "output_type": "stream",
          "name": "stdout",
          "text": [
            "3hP3TktpfEHuFubiINX0a$\n"
          ]
        }
      ]
    },
    {
      "cell_type": "code",
      "source": [
        "get_geometry_info(proxy, True)"
      ],
      "metadata": {
        "colab": {
          "base_uri": "https://localhost:8080/"
        },
        "id": "lzuJA9dnRBJd",
        "outputId": "5064287b-e149-44d0-aede-8ba943552ad2"
      },
      "execution_count": 12,
      "outputs": [
        {
          "output_type": "execute_result",
          "data": {
            "text/plain": [
              "[array([[ 0.       ,  0.       , -1.       ,  0.225    ],\n",
              "        [-1.       ,  0.       ,  0.       ,  6.5100001],\n",
              "        [ 0.       ,  1.       ,  0.       ,  7.2149501],\n",
              "        [ 0.       ,  0.       ,  0.       ,  1.       ]]),\n",
              " array([[ 6.0200001, -0.965    , -0.225    ],\n",
              "        [ 6.0200001,  0.965    , -0.225    ],\n",
              "        [ 6.0200001,  0.965    ,  0.225    ],\n",
              "        [ 6.0200001, -0.965    ,  0.225    ],\n",
              "        [ 0.       , -0.965    ,  0.225    ],\n",
              "        [ 0.       , -0.965    , -0.225    ],\n",
              "        [ 0.       ,  0.965    ,  0.225    ],\n",
              "        [ 0.       ,  0.965    , -0.225    ]]),\n",
              " [3,\n",
              "  0,\n",
              "  1,\n",
              "  3,\n",
              "  1,\n",
              "  2,\n",
              "  0,\n",
              "  3,\n",
              "  4,\n",
              "  0,\n",
              "  4,\n",
              "  5,\n",
              "  5,\n",
              "  4,\n",
              "  6,\n",
              "  5,\n",
              "  6,\n",
              "  7,\n",
              "  2,\n",
              "  6,\n",
              "  4,\n",
              "  2,\n",
              "  4,\n",
              "  3,\n",
              "  2,\n",
              "  1,\n",
              "  7,\n",
              "  2,\n",
              "  7,\n",
              "  6,\n",
              "  7,\n",
              "  1,\n",
              "  0,\n",
              "  7,\n",
              "  0,\n",
              "  5],\n",
              " array([[0.45, 0.49, 6.25],\n",
              "        [0.45, 0.49, 8.18],\n",
              "        [0.  , 0.49, 8.18],\n",
              "        [0.  , 0.49, 6.25],\n",
              "        [0.  , 6.51, 6.25],\n",
              "        [0.45, 6.51, 6.25],\n",
              "        [0.  , 6.51, 8.18],\n",
              "        [0.45, 6.51, 8.18]])]"
            ]
          },
          "metadata": {},
          "execution_count": 12
        }
      ]
    },
    {
      "cell_type": "markdown",
      "source": [
        "# Create graph"
      ],
      "metadata": {
        "id": "6aLAwaoeiTF9"
      }
    },
    {
      "cell_type": "markdown",
      "source": [
        "Lets beging by testing the intersecting object"
      ],
      "metadata": {
        "id": "MHL9YKOsuOrG"
      }
    },
    {
      "cell_type": "code",
      "source": [
        "from collections import deque\n",
        "\n",
        "class Graph:\n",
        "  def __init__(self) :\n",
        "    self.node_dict = {}\n",
        "\n",
        "  def bfs_traverse(self, start_node, max_depth):\n",
        "    queue = deque([start_node])\n",
        "    memory = set()\n",
        "    depth = 0\n",
        "\n",
        "    while len(queue) !=0 and depth < max_depth:\n",
        "      depth +=1\n",
        "      current_node = queue.popleft()\n",
        "      set.add(current_node.guid)\n",
        "\n",
        "\n",
        "\n",
        "  def __len__(self):\n",
        "        return len(self.node_dict)\n",
        "\n",
        "class Node:\n",
        "  def __init__(self, name, _type, guid, geom_info, psets) :\n",
        "    self.name = name\n",
        "    self.geom_type = _type\n",
        "    self.geom_info = geom_info\n",
        "    self.guid = guid\n",
        "    self.psets = psets\n",
        "    self.near = []"
      ],
      "metadata": {
        "id": "yduDc2gHwked"
      },
      "execution_count": 13,
      "outputs": []
    },
    {
      "cell_type": "code",
      "source": [
        "column = model1.by_type(\"IfcColumn\")[0]"
      ],
      "metadata": {
        "id": "R6sAhq57zRzs"
      },
      "execution_count": 14,
      "outputs": []
    },
    {
      "cell_type": "code",
      "source": [
        "import ifcopenshell.util.element\n",
        "\n",
        "psets = ifcopenshell.util.element.get_psets(column)\n",
        "psets"
      ],
      "metadata": {
        "colab": {
          "base_uri": "https://localhost:8080/"
        },
        "id": "tQxq7BrApUul",
        "outputId": "85dbef6c-2b64-4350-d743-83a0d311ef2d"
      },
      "execution_count": 15,
      "outputs": [
        {
          "output_type": "execute_result",
          "data": {
            "text/plain": [
              "{'BaseQuantities': {'Length': 4.1065,\n",
              "  'CrossSectionArea': 0.0002,\n",
              "  'OuterSurfaceArea': 3.7097,\n",
              "  'NetSurfaceArea': 3.7097,\n",
              "  'GrossVolume': 0.1971,\n",
              "  'NetVolume': 0.1971,\n",
              "  'GrossWeight': 0.201,\n",
              "  'NetWeight': 0.201,\n",
              "  'id': 1132},\n",
              " 'Cadwork3dProperties': {'Group': 'AW_1.OG_04',\n",
              "  'SubGroup': 'AW_1.OG',\n",
              "  'Prod_Nb': '102',\n",
              "  'BTA TYP': 'Tragwerk',\n",
              "  'id': 1142},\n",
              " 'BIMWood_Common': {'Local coordinate system': {'id': 1149,\n",
              "   'type': 'IfcComplexProperty',\n",
              "   'UsageName': 'Local coordinate system',\n",
              "   'properties': {'Location': {'id': 1150,\n",
              "     'type': 'IfcComplexProperty',\n",
              "     'UsageName': 'Location',\n",
              "     'properties': {'X': 5201.0000008, 'Y': -3762.9999104, 'Z': 67.0000389}},\n",
              "    'Axis': {'id': 1154,\n",
              "     'type': 'IfcComplexProperty',\n",
              "     'UsageName': 'Axis',\n",
              "     'properties': {'X': 0.0, 'Y': 0.0, 'Z': 1.0}},\n",
              "    'RefDirection': {'id': 1155,\n",
              "     'type': 'IfcComplexProperty',\n",
              "     'UsageName': 'Reference Direction',\n",
              "     'properties': {'X': 0.0, 'Y': -1.0, 'Z': 0.0}}}},\n",
              "  'id': 1148},\n",
              " 'BIMWood_Production': {'ProductionNumber': '102',\n",
              "  'Package': '',\n",
              "  'Layer': 0,\n",
              "  'id': 1157}}"
            ]
          },
          "metadata": {},
          "execution_count": 15
        }
      ]
    },
    {
      "cell_type": "code",
      "source": [
        "\n",
        "def write_to_node(current_node):\n",
        "  if current_node != None:\n",
        "    geom_infos = get_geometry_info(current_node, get_global = True)\n",
        "\n",
        "    if geom_infos != None:\n",
        "      psets = ifcopenshell.util.element.get_psets(current_node)\n",
        "      node = Node(current_node.Name, current_node.is_a(), current_node.GlobalId, geom_infos[-1], psets)\n",
        "\n",
        "      return node\n",
        "\n",
        "root = model1.by_type(\"IfcProject\")[0]\n",
        "graph = Graph()\n",
        "\n",
        "\n",
        "for node in bfs_traverse(root, True,write_to_node):\n",
        "  if node!= None:\n",
        "    graph.node_dict[node.guid] = node"
      ],
      "metadata": {
        "colab": {
          "base_uri": "https://localhost:8080/"
        },
        "id": "xnwt7RabwSH5",
        "outputId": "82605058-c3cc-431e-e27f-609556c51211"
      },
      "execution_count": 16,
      "outputs": [
        {
          "output_type": "stream",
          "name": "stdout",
          "text": [
            "CURRENT DEPTH : 0 [TYPE] IfcProject [GUID] (3miTfNL$L71QyUe3gXAoxs) [NAME] Elementproduktion Neubau MFH Steiger Kriens\n",
            "None\n",
            "Number of child: 1\n",
            "CURRENT DEPTH : 1 [TYPE] IfcSite [GUID] (1SzEa5YqbDIwySB1POkj_Z) [NAME] \n",
            "None\n",
            "Number of child: 1\n",
            "CURRENT DEPTH : 2 [TYPE] IfcBuilding [GUID] (3dxf9WLe53_u7e_bPqmRyD) [NAME] Gebäude 1\n",
            "None\n",
            "Number of child: 1\n",
            "CURRENT DEPTH : 3 [TYPE] IfcBuildingStorey [GUID] (0pMiGmcY16khkKwpZo2SSm) [NAME] Geschoss 1\n",
            "None\n",
            "Contained Elements: 186\n",
            "CURRENT DEPTH : 3 [TYPE] IfcBeam [GUID] (1AgH95SW53R8Ty1FOWUW43) [NAME] \n",
            "<__main__.Node object at 0x7b66d5cce490>\n",
            "CURRENT DEPTH : 3 [TYPE] IfcBeam [GUID] (1KOT4FRQHCRgSKRCSO1b3L) [NAME] BALKEN\n",
            "<__main__.Node object at 0x7b66d5cd30d0>\n",
            "CURRENT DEPTH : 3 [TYPE] IfcBeam [GUID] (3B5zlsgnn3yQQsKceDiDur) [NAME] BALKEN\n",
            "<__main__.Node object at 0x7b66d5cce590>\n",
            "CURRENT DEPTH : 3 [TYPE] IfcBeam [GUID] (05H_FC$n5FFB5WMTBJFqIp) [NAME] BALKEN\n",
            "<__main__.Node object at 0x7b66d5cd3110>\n",
            "CURRENT DEPTH : 3 [TYPE] IfcBeam [GUID] (0SR1SVWzvCCOr2oCYBptB6) [NAME] BALKEN\n",
            "<__main__.Node object at 0x7b66f25c8750>\n",
            "CURRENT DEPTH : 3 [TYPE] IfcBeam [GUID] (2rbMQwG4TDkQBbUCssngru) [NAME] BALKEN\n",
            "<__main__.Node object at 0x7b66d5cd3150>\n",
            "CURRENT DEPTH : 3 [TYPE] IfcBeam [GUID] (15Q_2ddvX0Vxz2afw3sw7j) [NAME] BALKEN\n",
            "<__main__.Node object at 0x7b66f25b95d0>\n",
            "CURRENT DEPTH : 3 [TYPE] IfcBeam [GUID] (1IDvcWy2P87AhZ1FsxSl39) [NAME] BALKEN\n",
            "<__main__.Node object at 0x7b66f22d1810>\n",
            "CURRENT DEPTH : 3 [TYPE] IfcBeam [GUID] (1IkSNUOsHChxTSIkxZviqk) [NAME] BALKEN\n",
            "<__main__.Node object at 0x7b66f22d1810>\n",
            "CURRENT DEPTH : 3 [TYPE] IfcBeam [GUID] (3tumeC$JXEyPFGq4SlLqCp) [NAME] BALKEN\n",
            "<__main__.Node object at 0x7b66f2307d50>\n",
            "CURRENT DEPTH : 3 [TYPE] IfcBeam [GUID] (3oTQaSKMPC9QMqZolL6QTg) [NAME] Fachwerk\n",
            "<__main__.Node object at 0x7b66f25c84d0>\n",
            "CURRENT DEPTH : 3 [TYPE] IfcBeam [GUID] (3OFoD_OYT6bQjefD43n1ZZ) [NAME] Fachwerk\n",
            "<__main__.Node object at 0x7b66d5cb0dd0>\n",
            "CURRENT DEPTH : 3 [TYPE] IfcBeam [GUID] (29gumJqxz45eLGjq_7OIz$) [NAME] Fachwerk\n",
            "<__main__.Node object at 0x7b66f25c8b90>\n",
            "CURRENT DEPTH : 3 [TYPE] IfcBeam [GUID] (0zbAfN2WvBiefYrhv5xcv4) [NAME] Fachwerk\n",
            "<__main__.Node object at 0x7b66d5cd3250>\n",
            "CURRENT DEPTH : 3 [TYPE] IfcBuildingElementProxy [GUID] (3edz97X5z9hwr0wjL9OEF1) [NAME] Hüllkörper\n",
            "<__main__.Node object at 0x7b66d5cd03d0>\n",
            "CURRENT DEPTH : 3 [TYPE] IfcBuildingElementProxy [GUID] (1zz9q_Gc10g8Y5dUKaIwfR) [NAME] Hüllkörper\n",
            "<__main__.Node object at 0x7b66f3901910>\n",
            "CURRENT DEPTH : 3 [TYPE] IfcBuildingElementProxy [GUID] (3uFlzfrA95xAiQOorlLzjO) [NAME] Hüllkörper\n",
            "<__main__.Node object at 0x7b66f22d1350>\n",
            "CURRENT DEPTH : 3 [TYPE] IfcBuildingElementProxy [GUID] (3hP3TktpfEHuFubiINX0a$) [NAME] Hüllkörper\n",
            "<__main__.Node object at 0x7b66d5cd32d0>\n",
            "CURRENT DEPTH : 3 [TYPE] IfcBuildingElementProxy [GUID] (1T__mmE_TBK9jw3D9nL$g$) [NAME] Hüllkörper\n",
            "<__main__.Node object at 0x7b66f25d3450>\n",
            "CURRENT DEPTH : 3 [TYPE] IfcBuildingElementProxy [GUID] (1v21h9sM16LxTe4EYKjH6m) [NAME] Hüllkörper\n",
            "<__main__.Node object at 0x7b66f25d3450>\n",
            "CURRENT DEPTH : 3 [TYPE] IfcBuildingElementProxy [GUID] (22XTVn9VvB0wJHsk6JVE_s) [NAME] Hüllkörper\n",
            "<__main__.Node object at 0x7b66d5cd0490>\n",
            "CURRENT DEPTH : 3 [TYPE] IfcBuildingElementProxy [GUID] (2jR31xG$5EJOMQVRYudHWF) [NAME] Hüllkörper\n",
            "<__main__.Node object at 0x7b66f25f2110>\n",
            "CURRENT DEPTH : 3 [TYPE] IfcBuildingElementProxy [GUID] (2rzj0Qlb1D1B8o50A2ozww) [NAME] Hüllkörper\n",
            "<__main__.Node object at 0x7b66f25d3450>\n",
            "CURRENT DEPTH : 3 [TYPE] IfcBuildingElementProxy [GUID] (36F6wykxD4ggrNg8DkBSBd) [NAME] Hüllkörper\n",
            "<__main__.Node object at 0x7b66d5af3d90>\n",
            "CURRENT DEPTH : 3 [TYPE] IfcBuildingElementProxy [GUID] (3k8gximy95Y9f1t5ZnusVi) [NAME] Hüllkörper\n",
            "<__main__.Node object at 0x7b66f25b4f50>\n",
            "CURRENT DEPTH : 3 [TYPE] IfcBuildingElementProxy [GUID] (04PKDvpIL8U9o5BiVUSFJa) [NAME] Hüllkörper\n",
            "<__main__.Node object at 0x7b66d5be2650>\n",
            "CURRENT DEPTH : 3 [TYPE] IfcBuildingElementProxy [GUID] (1L$W5YlIbDy9kmK$ywJ5qV) [NAME] Hüllkörper\n",
            "<__main__.Node object at 0x7b66f25ccb90>\n",
            "CURRENT DEPTH : 3 [TYPE] IfcBuildingElementProxy [GUID] (2vvQilDH1EZwQ_g8qbXLyr) [NAME] Hüllkörper\n",
            "<__main__.Node object at 0x7b66f22e0110>\n",
            "CURRENT DEPTH : 3 [TYPE] IfcBuildingElementProxy [GUID] (2pJB00DGrA9ejudS4GR3iD) [NAME] Hüllkörper\n",
            "<__main__.Node object at 0x7b66d5ae0650>\n",
            "CURRENT DEPTH : 3 [TYPE] IfcBuildingElementProxy [GUID] (2doEMqUAPAuRjlZQA_5OPA) [NAME] Hüllkörper\n",
            "<__main__.Node object at 0x7b66d5ccf350>\n",
            "CURRENT DEPTH : 3 [TYPE] IfcBuildingElementProxy [GUID] (2xbvOXSuDA0P7NPxSZbe4T) [NAME] Hüllkörper\n",
            "<__main__.Node object at 0x7b66f25d0ad0>\n",
            "CURRENT DEPTH : 3 [TYPE] IfcBuildingElementProxy [GUID] (3rEx40WVHEtBXLheCyPEnA) [NAME] Hüllkörper\n",
            "<__main__.Node object at 0x7b66d5cd3490>\n",
            "CURRENT DEPTH : 3 [TYPE] IfcBuildingElementProxy [GUID] (3CndK_DRL99OHT37fFpA62) [NAME] Hüllkörper\n",
            "<__main__.Node object at 0x7b66d5af3750>\n",
            "CURRENT DEPTH : 3 [TYPE] IfcBuildingElementProxy [GUID] (2D6n5vh5f3b9aOr0Nvuy8g) [NAME] Hüllkörper\n",
            "<__main__.Node object at 0x7b66d5afff10>\n",
            "CURRENT DEPTH : 3 [TYPE] IfcBuildingElementProxy [GUID] (3PPLAjpCj8$OE6euRzkrXG) [NAME] Hüllkörper\n",
            "<__main__.Node object at 0x7b66d5cce2d0>\n",
            "CURRENT DEPTH : 3 [TYPE] IfcBuildingElementProxy [GUID] (13GsW7EYb1Sg2DhhYasC0A) [NAME] Hüllkörper\n",
            "<__main__.Node object at 0x7b66f25d3490>\n",
            "CURRENT DEPTH : 3 [TYPE] IfcBuildingElementProxy [GUID] (1EZflFQQLBEwtoYRmKBsEF) [NAME] Hüllkörper\n",
            "<__main__.Node object at 0x7b66f25ccbd0>\n",
            "CURRENT DEPTH : 3 [TYPE] IfcBuildingElementProxy [GUID] (2uLClOVFjC0vWrjtAv6bX7) [NAME] Hüllkörper\n",
            "<__main__.Node object at 0x7b66f25d4a50>\n",
            "CURRENT DEPTH : 3 [TYPE] IfcBuildingElementProxy [GUID] (3bQPmp0Zb1COsgjgQAyErB) [NAME] Hüllkörper\n",
            "<__main__.Node object at 0x7b66f25b4cd0>\n",
            "CURRENT DEPTH : 3 [TYPE] IfcBuildingElementProxy [GUID] (2KDAhybWDBzgzF3NaMoT3z) [NAME] Hüllkörper\n",
            "<__main__.Node object at 0x7b66d5affc50>\n",
            "CURRENT DEPTH : 3 [TYPE] IfcBuildingElementProxy [GUID] (1ZXE1Cl1f08PZL4czgUkY$) [NAME] Hüllkörper\n",
            "<__main__.Node object at 0x7b66f25b8590>\n",
            "CURRENT DEPTH : 3 [TYPE] IfcBuildingElementProxy [GUID] (1OXYf2Zj1ADvXcf8563XcN) [NAME] Hüllkörper\n",
            "<__main__.Node object at 0x7b66f25d26d0>\n",
            "CURRENT DEPTH : 3 [TYPE] IfcBuildingElementProxy [GUID] (3VCDOOAHv6ThLItoGdsYjG) [NAME] Hüllkörper\n",
            "<__main__.Node object at 0x7b66d5cd0750>\n",
            "CURRENT DEPTH : 3 [TYPE] IfcBuildingElementProxy [GUID] (1s8bkhf_H1NP2vBudB$Bzx) [NAME] Hüllkörper\n",
            "<__main__.Node object at 0x7b66f25b4250>\n",
            "CURRENT DEPTH : 3 [TYPE] IfcBuildingElementProxy [GUID] (33W6zcEC9FQB6zeWKLfIgq) [NAME] Hüllkörper\n",
            "<__main__.Node object at 0x7b66d5cd0790>\n",
            "CURRENT DEPTH : 3 [TYPE] IfcBuildingElementProxy [GUID] (0sJ655kUzEgBAf2kqaOicM) [NAME] Hüllkörper\n",
            "<__main__.Node object at 0x7b66d5cd3650>\n",
            "CURRENT DEPTH : 3 [TYPE] IfcBuildingElementProxy [GUID] (3YHr1_KJ18vgeVAXSppt1d) [NAME] Hüllkörper\n",
            "<__main__.Node object at 0x7b66d5cd07d0>\n",
            "CURRENT DEPTH : 3 [TYPE] IfcBuildingElementProxy [GUID] (3ssGI6Zw5E0AGC5$CTWUQI) [NAME] Hüllkörper\n",
            "<__main__.Node object at 0x7b66d5ccf610>\n",
            "CURRENT DEPTH : 3 [TYPE] IfcBuildingElementProxy [GUID] (0cMYCeEWXF0BHi77ah9vkb) [NAME] Hüllkörper\n",
            "<__main__.Node object at 0x7b66f25b5450>\n",
            "CURRENT DEPTH : 3 [TYPE] IfcBuildingElementProxy [GUID] (2ZvKjhrgz2kuRx5v5Yu2Cw) [NAME] Hüllkörper\n",
            "<__main__.Node object at 0x7b66d5cd36d0>\n",
            "CURRENT DEPTH : 3 [TYPE] IfcBuildingElementProxy [GUID] (3Wpz3yfy10YRcZPTeVoxp0) [NAME] Hüllkörper\n",
            "<__main__.Node object at 0x7b66d5cd0850>\n",
            "CURRENT DEPTH : 3 [TYPE] IfcBuildingElementProxy [GUID] (0AkXyM5wj1UvLP7npgxyBG) [NAME] Hüllkörper\n",
            "<__main__.Node object at 0x7b66d5ccf7d0>\n",
            "CURRENT DEPTH : 3 [TYPE] IfcBuildingElementProxy [GUID] (180HZ3S3z4gQjys1lAnuOx) [NAME] Hüllkörper\n",
            "<__main__.Node object at 0x7b66d5b1bdd0>\n",
            "CURRENT DEPTH : 3 [TYPE] IfcBuildingElementProxy [GUID] (0xB7$IEMP4aPDyHi8AdIcc) [NAME] Hüllkörper\n",
            "<__main__.Node object at 0x7b66d5af3d90>\n",
            "CURRENT DEPTH : 3 [TYPE] IfcBuildingElementProxy [GUID] (1SVbK4K8zAOgtOe61TXNSQ) [NAME] Hüllkörper\n",
            "<__main__.Node object at 0x7b66d5cd08d0>\n",
            "CURRENT DEPTH : 3 [TYPE] IfcBuildingElementProxy [GUID] (1KN_u3HDb7dv$nWZpXkxdh) [NAME] Hüllkörper\n",
            "<__main__.Node object at 0x7b66d5b278d0>\n",
            "CURRENT DEPTH : 3 [TYPE] IfcBuildingElementProxy [GUID] (3vfpUCGHz0LxukOqjTjMfk) [NAME] Hüllkörper\n",
            "<__main__.Node object at 0x7b66d5cd0910>\n",
            "CURRENT DEPTH : 3 [TYPE] IfcBuildingElementProxy [GUID] (0oz3p$9on2YPo26EYlPSha) [NAME] Hüllkörper\n",
            "<__main__.Node object at 0x7b66f28d2790>\n",
            "CURRENT DEPTH : 3 [TYPE] IfcBuildingElementProxy [GUID] (0DXBs6IwP9PAQ4eRX3EkiO) [NAME] Hüllkörper\n",
            "<__main__.Node object at 0x7b66d5b2ff50>\n",
            "CURRENT DEPTH : 3 [TYPE] IfcBuildingElementProxy [GUID] (2IXgLVLcn0Wh1CZ0M7kwRx) [NAME] Hüllkörper\n",
            "<__main__.Node object at 0x7b66d5ccf9d0>\n",
            "CURRENT DEPTH : 3 [TYPE] IfcBuildingElementProxy [GUID] (1ZfSs7MDXFOunf6xIPmXzY) [NAME] Hüllkörper\n",
            "<__main__.Node object at 0x7b66f25d5710>\n",
            "CURRENT DEPTH : 3 [TYPE] IfcBuildingElementProxy [GUID] (1$sPUi$sn4NQ8nhLtA_Ibl) [NAME] Hüllkörper\n",
            "<__main__.Node object at 0x7b66f25bf850>\n",
            "CURRENT DEPTH : 3 [TYPE] IfcBuildingElementProxy [GUID] (3h$RfMCITFZgOu0HK$ntfZ) [NAME] Hüllkörper\n",
            "<__main__.Node object at 0x7b66d5b0ae10>\n",
            "CURRENT DEPTH : 3 [TYPE] IfcBuildingElementProxy [GUID] (0alLEWpVjAwefOaVvOoie9) [NAME] Hüllkörper\n",
            "<__main__.Node object at 0x7b66d5b2e610>\n",
            "CURRENT DEPTH : 3 [TYPE] IfcBuildingElementProxy [GUID] (0fxVcktzL29vJf8JatgLCw) [NAME] Hüllkörper\n",
            "<__main__.Node object at 0x7b66d5cd0a10>\n",
            "CURRENT DEPTH : 3 [TYPE] IfcBuildingElementProxy [GUID] (14uDs4LnX1pAh8TlL4BIAy) [NAME] Hüllkörper\n",
            "<__main__.Node object at 0x7b66d5b1bed0>\n",
            "CURRENT DEPTH : 3 [TYPE] IfcBuildingElementProxy [GUID] (1W$jlZ7qj0APdL8Esyg9VI) [NAME] Hüllkörper\n",
            "<__main__.Node object at 0x7b66d5b2fc50>\n",
            "CURRENT DEPTH : 3 [TYPE] IfcBuildingElementProxy [GUID] (3s4KhJlFPDoAJHi04QXE9j) [NAME] Hüllkörper\n",
            "<__main__.Node object at 0x7b66d5cd3910>\n",
            "CURRENT DEPTH : 3 [TYPE] IfcBuildingElementProxy [GUID] (1_ZPSYz$bAzheCu8QgdBM5) [NAME] Hüllkörper\n",
            "<__main__.Node object at 0x7b66f25bd350>\n",
            "CURRENT DEPTH : 3 [TYPE] IfcBuildingElementProxy [GUID] (0rf$ZuiEz8suYGSDDIOliR) [NAME] Hüllkörper\n",
            "<__main__.Node object at 0x7b66f25f2f10>\n",
            "CURRENT DEPTH : 3 [TYPE] IfcBuildingElementProxy [GUID] (3umrUiEw13_ADLVwCs8LY0) [NAME] Hüllkörper\n",
            "<__main__.Node object at 0x7b66d5b1f350>\n",
            "CURRENT DEPTH : 3 [TYPE] IfcBuildingElementProxy [GUID] (3_rNfeg7fB0eaoOQW7SxJ0) [NAME] Hüllkörper\n",
            "<__main__.Node object at 0x7b66d5cd3990>\n",
            "CURRENT DEPTH : 3 [TYPE] IfcBuildingElementProxy [GUID] (1NgYdGC$53BAfmfU$o8h4$) [NAME] Hüllkörper\n",
            "<__main__.Node object at 0x7b66d5b1ab10>\n",
            "CURRENT DEPTH : 3 [TYPE] IfcBuildingElementProxy [GUID] (0c2VtRQ9P8mQ4oVQMLegWR) [NAME] Hüllkörper\n",
            "<__main__.Node object at 0x7b66d5cd39d0>\n",
            "CURRENT DEPTH : 3 [TYPE] IfcBuildingElementProxy [GUID] (3nGItE9Vn2LwNr7rp495gz) [NAME] Hüllkörper\n",
            "<__main__.Node object at 0x7b66f22d1810>\n",
            "CURRENT DEPTH : 3 [TYPE] IfcBuildingElementProxy [GUID] (1jyUp2Q9D8dgeSyJhtRZq4) [NAME] Hüllkörper\n",
            "<__main__.Node object at 0x7b66d5ccfdd0>\n",
            "CURRENT DEPTH : 3 [TYPE] IfcBuildingElementProxy [GUID] (1NlSrQXwD2e9lv73pG$HjK) [NAME] Hüllkörper\n",
            "<__main__.Node object at 0x7b66f25cec50>\n",
            "CURRENT DEPTH : 3 [TYPE] IfcBuildingElementProxy [GUID] (1cc7OMqf15NBJM5DcXIBWZ) [NAME] Hüllkörper\n",
            "<__main__.Node object at 0x7b66d5b0bb50>\n",
            "CURRENT DEPTH : 3 [TYPE] IfcBuildingElementProxy [GUID] (31lyo_DaPF89E9hHR2H6vz) [NAME] Hüllkörper\n",
            "<__main__.Node object at 0x7b66f25bb450>\n",
            "CURRENT DEPTH : 3 [TYPE] IfcBuildingElementProxy [GUID] (1JZnxSXP18Ifw5N6TOJ4MA) [NAME] Hüllkörper\n",
            "<__main__.Node object at 0x7b66f25d0cd0>\n",
            "CURRENT DEPTH : 3 [TYPE] IfcBuildingElementProxy [GUID] (340NeFv3D8YueuXwgb91RV) [NAME] Hüllkörper\n",
            "<__main__.Node object at 0x7b66d5b1aa10>\n",
            "CURRENT DEPTH : 3 [TYPE] IfcBuildingElementProxy [GUID] (2CNdlsHOLF4v9frO$u_w1K) [NAME] Hüllkörper\n",
            "<__main__.Node object at 0x7b66d5bf8ed0>\n",
            "CURRENT DEPTH : 3 [TYPE] IfcBuildingElementProxy [GUID] (1oOBu4Ah53yfHQgtd4PsUj) [NAME] Hüllkörper\n",
            "<__main__.Node object at 0x7b66d5b2fc50>\n",
            "CURRENT DEPTH : 3 [TYPE] IfcBuildingElementProxy [GUID] (3rDOdLq_j6eP4dNSN3EWtp) [NAME] Hüllkörper\n",
            "<__main__.Node object at 0x7b66d5ccffd0>\n",
            "CURRENT DEPTH : 3 [TYPE] IfcBuildingElementProxy [GUID] (1AIc7b3gP3yQLJVDPYbLVo) [NAME] Hüllkörper\n",
            "<__main__.Node object at 0x7b66f25d6210>\n",
            "CURRENT DEPTH : 3 [TYPE] IfcBuildingElementProxy [GUID] (3QIW4Kxq92Yg1D7LbghuHp) [NAME] Hüllkörper\n",
            "<__main__.Node object at 0x7b66f25d6210>\n",
            "CURRENT DEPTH : 3 [TYPE] IfcBuildingElementProxy [GUID] (2txeCvCzz5ZQLj4175UgtX) [NAME] Hüllkörper\n",
            "<__main__.Node object at 0x7b66f25d00d0>\n",
            "CURRENT DEPTH : 3 [TYPE] IfcBuildingElementProxy [GUID] (0s3Q4COL92iP$Rypj1ruwB) [NAME] Hüllkörper\n",
            "<__main__.Node object at 0x7b66d5b4ac90>\n",
            "CURRENT DEPTH : 3 [TYPE] IfcBuildingElementProxy [GUID] (1_Jap6NMzEgA165A0ZSflH) [NAME] Hüllkörper\n",
            "<__main__.Node object at 0x7b66d5b1ff10>\n",
            "CURRENT DEPTH : 3 [TYPE] IfcBuildingElementProxy [GUID] (2R7i9Uy8n9NgGldiURbLdq) [NAME] Hüllkörper\n",
            "<__main__.Node object at 0x7b66d5b0ae10>\n",
            "CURRENT DEPTH : 3 [TYPE] IfcBuildingElementProxy [GUID] (079J3YnzvE$gjrItr2ZV8a) [NAME] Hüllkörper\n",
            "<__main__.Node object at 0x7b66d5b4f290>\n",
            "CURRENT DEPTH : 3 [TYPE] IfcBuildingElementProxy [GUID] (20f7cuwxz5_AQEwpazGUqz) [NAME] Hüllkörper\n",
            "<__main__.Node object at 0x7b66d5b26990>\n",
            "CURRENT DEPTH : 3 [TYPE] IfcBuildingElementProxy [GUID] (2r31r_SDbEoufU58JdY4Jk) [NAME] Hüllkörper\n",
            "<__main__.Node object at 0x7b66d5ccfe90>\n",
            "CURRENT DEPTH : 3 [TYPE] IfcBuildingElementProxy [GUID] (3NwU6USg9AuO4Q_wgNRuWa) [NAME] Hüllkörper\n",
            "<__main__.Node object at 0x7b66d5b2fa90>\n",
            "CURRENT DEPTH : 3 [TYPE] IfcBuildingElementProxy [GUID] (2No2hs21j3fAdYj6tvkzhx) [NAME] Hüllkörper\n",
            "<__main__.Node object at 0x7b66d5b26990>\n",
            "CURRENT DEPTH : 3 [TYPE] IfcBuildingElementProxy [GUID] (3nLz93O$v6rO5CdfrA8ARq) [NAME] Hüllkörper\n",
            "<__main__.Node object at 0x7b66d5b67ed0>\n",
            "CURRENT DEPTH : 3 [TYPE] IfcBuildingElementProxy [GUID] (1nQv6Z$PfELAlU39f8R9a9) [NAME] Hüllkörper\n",
            "<__main__.Node object at 0x7b66d5b5aa10>\n",
            "CURRENT DEPTH : 3 [TYPE] IfcBuildingElementProxy [GUID] (21ac8ZpA9B6B$zIPNJHBZB) [NAME] Hüllkörper\n",
            "<__main__.Node object at 0x7b66d5b2fc10>\n",
            "CURRENT DEPTH : 3 [TYPE] IfcBuildingElementProxy [GUID] (2VfLZ1BmrDIw4dA5aL$xb1) [NAME] Hüllkörper\n",
            "<__main__.Node object at 0x7b66d5cd0e50>\n",
            "CURRENT DEPTH : 3 [TYPE] IfcBuildingElementProxy [GUID] (2_ytYep6P79Rw7Q_lrmiDp) [NAME] Hüllkörper\n",
            "<__main__.Node object at 0x7b66d5cd3d10>\n",
            "CURRENT DEPTH : 3 [TYPE] IfcBuildingElementProxy [GUID] (0GPja27bb49vcMgvf1AByK) [NAME] Hüllkörper\n",
            "<__main__.Node object at 0x7b66d5ccf410>\n",
            "CURRENT DEPTH : 3 [TYPE] IfcBuildingElementProxy [GUID] (20FMqs10H0WANIjixdkMLK) [NAME] Hüllkörper\n",
            "<__main__.Node object at 0x7b66d5b7bf50>\n",
            "CURRENT DEPTH : 3 [TYPE] IfcBuildingElementProxy [GUID] (2eseriQ5X4HuwNMUDf9Mr3) [NAME] Hüllkörper\n",
            "<__main__.Node object at 0x7b66d5b7b810>\n",
            "CURRENT DEPTH : 3 [TYPE] IfcBuildingElementProxy [GUID] (06nvdZ9eD2hRHyN$osqr9$) [NAME] Hüllkörper\n",
            "<__main__.Node object at 0x7b66d5b0b650>\n",
            "CURRENT DEPTH : 3 [TYPE] IfcBuildingElementProxy [GUID] (2Y6ksOHIDCaeRTJ$Z7WG7l) [NAME] Hüllkörper\n",
            "<__main__.Node object at 0x7b66d5b26b90>\n",
            "CURRENT DEPTH : 3 [TYPE] IfcBuildingElementProxy [GUID] (1In0urjsD5nfjxUhEdhr4g) [NAME] Hüllkörper\n",
            "<__main__.Node object at 0x7b66f25bf850>\n",
            "CURRENT DEPTH : 3 [TYPE] IfcBuildingElementProxy [GUID] (3o14as6$P1GQOeedYgIq1J) [NAME] Hüllkörper\n",
            "<__main__.Node object at 0x7b66d5b7a810>\n",
            "CURRENT DEPTH : 3 [TYPE] IfcBuildingElementProxy [GUID] (13JTbQQ_1B4gYte7R3h$n$) [NAME] Hüllkörper\n",
            "<__main__.Node object at 0x7b66d5b7be50>\n",
            "CURRENT DEPTH : 3 [TYPE] IfcBuildingElementProxy [GUID] (35fAvctbD7Pw_OqjwgBj7j) [NAME] Hüllkörper\n",
            "<__main__.Node object at 0x7b66d5cd0f90>\n",
            "CURRENT DEPTH : 3 [TYPE] IfcBuildingElementProxy [GUID] (1mo6F1jRf2M9M$0mJ3Av7s) [NAME] Hüllkörper\n",
            "<__main__.Node object at 0x7b66d5b83f50>\n",
            "CURRENT DEPTH : 3 [TYPE] IfcColumn [GUID] (3Jd8riwVDBF8C$jSptIOPB) [NAME] BALKEN\n",
            "<__main__.Node object at 0x7b66d5b67310>\n",
            "CURRENT DEPTH : 3 [TYPE] IfcColumn [GUID] (2MDHkGU$z5ZfKoR$eS2q$g) [NAME] BALKEN\n",
            "<__main__.Node object at 0x7b66d5b67310>\n",
            "CURRENT DEPTH : 3 [TYPE] IfcColumn [GUID] (3zt1_TBxn0n8PyEh$DDuMa) [NAME] BALKEN\n",
            "<__main__.Node object at 0x7b66d5b251d0>\n",
            "CURRENT DEPTH : 3 [TYPE] IfcColumn [GUID] (3RsyFDCnP4gw$jjGuT9spL) [NAME] BALKEN\n",
            "<__main__.Node object at 0x7b66d5b251d0>\n",
            "CURRENT DEPTH : 3 [TYPE] IfcColumn [GUID] (19tC0Vylb6ngMFQTDEOKTw) [NAME] BALKEN\n",
            "<__main__.Node object at 0x7b66d5b7bf50>\n",
            "CURRENT DEPTH : 3 [TYPE] IfcColumn [GUID] (0Kj8RX6QL1$wlFJM4q$Tq0) [NAME] BALKEN\n",
            "<__main__.Node object at 0x7b66d5cd2090>\n",
            "CURRENT DEPTH : 3 [TYPE] IfcColumn [GUID] (10ER9KgEH9qu$yygBckVvk) [NAME] BALKEN\n",
            "<__main__.Node object at 0x7b66d5b7bf50>\n",
            "CURRENT DEPTH : 3 [TYPE] IfcColumn [GUID] (3XwrvJSDH2fR858frmVg$N) [NAME] BALKEN\n",
            "<__main__.Node object at 0x7b66d5b4d690>\n",
            "CURRENT DEPTH : 3 [TYPE] IfcColumn [GUID] (0H$6w1ZYH0iOjv$lFmZeWT) [NAME] BALKEN\n",
            "<__main__.Node object at 0x7b66d5ccf8d0>\n",
            "CURRENT DEPTH : 3 [TYPE] IfcColumn [GUID] (1bM9cwNVX6ExvEFV6m4UV_) [NAME] BALKEN\n",
            "<__main__.Node object at 0x7b66d5b93cd0>\n",
            "CURRENT DEPTH : 3 [TYPE] IfcColumn [GUID] (1TfxOg3LnAKw96_yhJmzIf) [NAME] BALKEN\n",
            "<__main__.Node object at 0x7b66d5b78250>\n",
            "CURRENT DEPTH : 3 [TYPE] IfcColumn [GUID] (3qdXgXjov6yf0bY2QsyegE) [NAME] BALKEN\n",
            "<__main__.Node object at 0x7b66f25d0610>\n",
            "CURRENT DEPTH : 3 [TYPE] IfcColumn [GUID] (2vKT5VnZzD9PAGagUVDgpj) [NAME] BALKEN\n",
            "<__main__.Node object at 0x7b66d5cd2290>\n",
            "CURRENT DEPTH : 3 [TYPE] IfcColumn [GUID] (3Ph5m$rm54LRrpYgr5uJMy) [NAME] BALKEN\n",
            "<__main__.Node object at 0x7b66d5cd0f50>\n",
            "CURRENT DEPTH : 3 [TYPE] IfcColumn [GUID] (1X9vwACSrA6eC3NmlY0IXZ) [NAME] BALKEN\n",
            "<__main__.Node object at 0x7b66f25d0cd0>\n",
            "CURRENT DEPTH : 3 [TYPE] IfcColumn [GUID] (3N93TKzMX0p8y4yVDt$kxC) [NAME] BALKEN\n",
            "<__main__.Node object at 0x7b66d5b9bd50>\n",
            "CURRENT DEPTH : 3 [TYPE] IfcColumn [GUID] (2C13$Bkrr8dP6_SXtEFIB8) [NAME] BALKEN\n",
            "<__main__.Node object at 0x7b66d5b9aad0>\n",
            "CURRENT DEPTH : 3 [TYPE] IfcColumn [GUID] (1JNe9ymcP1rRyhs6GMFy8u) [NAME] BALKEN\n",
            "<__main__.Node object at 0x7b66d5b9a510>\n",
            "CURRENT DEPTH : 3 [TYPE] IfcColumn [GUID] (2Oka5B$qLDhxIOiu_dGPEE) [NAME] BALKEN\n",
            "<__main__.Node object at 0x7b66d5b7b190>\n",
            "CURRENT DEPTH : 3 [TYPE] IfcColumn [GUID] (302$WNL1T7QA2Smj074I7h) [NAME] BALKEN\n",
            "<__main__.Node object at 0x7b66d5b8b510>\n",
            "CURRENT DEPTH : 3 [TYPE] IfcColumn [GUID] (3l0SqX7m9289wiobDGuZlx) [NAME] BALKEN\n",
            "<__main__.Node object at 0x7b66d5b8b050>\n",
            "CURRENT DEPTH : 3 [TYPE] IfcColumn [GUID] (0ts$fRA7X24x8pmQWDjpi2) [NAME] BALKEN\n",
            "<__main__.Node object at 0x7b66d5b7a450>\n",
            "CURRENT DEPTH : 3 [TYPE] IfcColumn [GUID] (3KofNY5lHFmA_GQRPwNtb2) [NAME] BALKEN\n",
            "<__main__.Node object at 0x7b66d5cd3dd0>\n",
            "CURRENT DEPTH : 3 [TYPE] IfcColumn [GUID] (3NUx8JrJrCaPvbrGPELkR5) [NAME] BALKEN\n",
            "<__main__.Node object at 0x7b66d5baf950>\n",
            "CURRENT DEPTH : 3 [TYPE] IfcColumn [GUID] (2SIPyioR9FfQX$7WZmaXDL) [NAME] BALKEN\n",
            "<__main__.Node object at 0x7b66d5cd2590>\n",
            "CURRENT DEPTH : 3 [TYPE] IfcColumn [GUID] (2xw7NSOiT2BuOXu3YG12VN) [NAME] BALKEN\n",
            "<__main__.Node object at 0x7b66d5bafb90>\n",
            "CURRENT DEPTH : 3 [TYPE] IfcColumn [GUID] (1iWtVeURX3rPXCj$guM8e6) [NAME] BALKEN\n",
            "<__main__.Node object at 0x7b66d5b8be10>\n",
            "CURRENT DEPTH : 3 [TYPE] IfcColumn [GUID] (0kxuZxSTf9tgSukpUMxT3f) [NAME] BALKEN\n",
            "<__main__.Node object at 0x7b66d5b93ed0>\n",
            "CURRENT DEPTH : 3 [TYPE] IfcMember [GUID] (0V$WEBTR54NgzzfiyMPJWs) [NAME] BALKEN\n",
            "<__main__.Node object at 0x7b66d5baf690>\n",
            "CURRENT DEPTH : 3 [TYPE] IfcMember [GUID] (3Mgk8cxwn9pfEx$Zodvk0o) [NAME] BALKEN\n",
            "<__main__.Node object at 0x7b66d5b8bc50>\n",
            "CURRENT DEPTH : 3 [TYPE] IfcMember [GUID] (3kiN5Xy$TAtvSrNLIh4sF4) [NAME] BALKEN\n",
            "<__main__.Node object at 0x7b66d5b8aa10>\n",
            "CURRENT DEPTH : 3 [TYPE] IfcMember [GUID] (2zJMmRGs1A09CroXJH98jh) [NAME] BALKEN\n",
            "<__main__.Node object at 0x7b66d5b8aa10>\n",
            "CURRENT DEPTH : 3 [TYPE] IfcMember [GUID] (0kdmNEj_TAUAqeltz5MH4E) [NAME] BALKEN\n",
            "<__main__.Node object at 0x7b66d5cd1650>\n",
            "CURRENT DEPTH : 3 [TYPE] IfcMember [GUID] (3S$_3zKfL2BeAacPQ72kqb) [NAME] BALKEN\n",
            "<__main__.Node object at 0x7b66d5b8aa10>\n",
            "CURRENT DEPTH : 3 [TYPE] IfcMember [GUID] (2xRCTnzfbB_xKbuALHTDGY) [NAME] BALKEN\n",
            "<__main__.Node object at 0x7b66d5b712d0>\n",
            "CURRENT DEPTH : 3 [TYPE] IfcMember [GUID] (00YKXrKcDDMRe3roLRUjLZ) [NAME] BALKEN\n",
            "<__main__.Node object at 0x7b66d5b9d950>\n",
            "CURRENT DEPTH : 3 [TYPE] IfcMember [GUID] (1fSRhb8Pf1ZeABSU4lR_44) [NAME] BALKEN\n",
            "<__main__.Node object at 0x7b66d5bae1d0>\n",
            "CURRENT DEPTH : 3 [TYPE] IfcMember [GUID] (1HNO_G3j5CZAW8ZIXD_iYM) [NAME] BALKEN\n",
            "<__main__.Node object at 0x7b66d5b9d950>\n",
            "CURRENT DEPTH : 3 [TYPE] IfcMember [GUID] (0BQa_1CmDAOgkN3FFlLppK) [NAME] Fachwerk\n",
            "<__main__.Node object at 0x7b66d5b9d950>\n",
            "CURRENT DEPTH : 3 [TYPE] IfcMember [GUID] (1NzGPYgiz7LAXU6Hm9gDCm) [NAME] Fachwerk\n",
            "<__main__.Node object at 0x7b66d5b8a7d0>\n",
            "CURRENT DEPTH : 3 [TYPE] IfcMember [GUID] (2DEU1WFAP4e8AF7lguozjc) [NAME] Fachwerk\n",
            "<__main__.Node object at 0x7b66d5cd14d0>\n",
            "CURRENT DEPTH : 3 [TYPE] IfcMember [GUID] (0uyMBdDzH8qw0_ZkV4uTo0) [NAME] Fachwerk\n",
            "<__main__.Node object at 0x7b66d5bcf690>\n",
            "CURRENT DEPTH : 3 [TYPE] IfcMember [GUID] (31qpdnOCLBVPxxl1pxBLmo) [NAME] Fachwerk\n",
            "<__main__.Node object at 0x7b66d5bb1c90>\n",
            "CURRENT DEPTH : 3 [TYPE] IfcMember [GUID] (2J_h2BPXv9tvzBY8GnrQWr) [NAME] Fachwerk\n",
            "<__main__.Node object at 0x7b66d5bb11d0>\n",
            "CURRENT DEPTH : 3 [TYPE] IfcMember [GUID] (0kqHM6u3nAtROQ1NqNJ1yI) [NAME] Fachwerk\n",
            "<__main__.Node object at 0x7b66d5adc050>\n",
            "CURRENT DEPTH : 3 [TYPE] IfcMember [GUID] (2d9M9IoA50YgLBIj8TaYS4) [NAME] Fachwerk\n",
            "<__main__.Node object at 0x7b66d5bcef50>\n",
            "CURRENT DEPTH : 3 [TYPE] IfcMember [GUID] (3IIYLXanLEY94ciWckjsCc) [NAME] Fachwerk\n",
            "<__main__.Node object at 0x7b66d5b7bbd0>\n",
            "CURRENT DEPTH : 3 [TYPE] IfcMember [GUID] (1_vwepXMHCiPv793ZEDv_4) [NAME] Fachwerk\n",
            "<__main__.Node object at 0x7b66d5bd73d0>\n",
            "CURRENT DEPTH : 3 [TYPE] IfcMember [GUID] (1zDEIH82nAaRNy32ntNaK8) [NAME] Fachwerk\n",
            "<__main__.Node object at 0x7b66d5bd6690>\n",
            "CURRENT DEPTH : 3 [TYPE] IfcMember [GUID] (2UKx4_RY5A7e25LhqHLWA5) [NAME] Fachwerk\n",
            "<__main__.Node object at 0x7b66d5cd1690>\n",
            "CURRENT DEPTH : 3 [TYPE] IfcMember [GUID] (1_fO64jDn1DvCJUc4CzetL) [NAME] Fachwerk\n",
            "<__main__.Node object at 0x7b66d5cd2c10>\n",
            "CURRENT DEPTH : 3 [TYPE] IfcMember [GUID] (19gKuiVHz6Jecu7VZ_JqpH) [NAME] Fachwerk\n",
            "<__main__.Node object at 0x7b66d5bafb50>\n",
            "CURRENT DEPTH : 3 [TYPE] IfcMember [GUID] (1wbDD59hn2fvkz0T7d$R9a) [NAME] Fachwerk\n",
            "<__main__.Node object at 0x7b66d5bcf4d0>\n",
            "CURRENT DEPTH : 3 [TYPE] IfcMember [GUID] (1feKhVIO9CiAr0EVktp$hT) [NAME] Fachwerk\n",
            "<__main__.Node object at 0x7b66d5bd5a50>\n",
            "CURRENT DEPTH : 3 [TYPE] IfcMember [GUID] (23aw1lDEXD$8h64k9nX0bP) [NAME] Fachwerk\n",
            "<__main__.Node object at 0x7b66d5bd78d0>\n",
            "CURRENT DEPTH : 3 [TYPE] IfcMember [GUID] (3d3Elhuh14OwFSdLun34nV) [NAME] Fachwerk\n",
            "<__main__.Node object at 0x7b66d5adc310>\n",
            "CURRENT DEPTH : 3 [TYPE] IfcMember [GUID] (1vWGRh5yTAgOmO6eeRYDy5) [NAME] Fachwerk\n",
            "<__main__.Node object at 0x7b66d5bb1c10>\n",
            "CURRENT DEPTH : 3 [TYPE] IfcMember [GUID] (0h3N8hRPn9JBRCyPs33$C6) [NAME] Fachwerk\n",
            "<__main__.Node object at 0x7b66d5adc390>\n",
            "CURRENT DEPTH : 3 [TYPE] IfcPlate [GUID] (1713FkkqT7ahiewkyy2Awr) [NAME] MASSIVBAU\n",
            "<__main__.Node object at 0x7b66d59e71d0>\n",
            "CURRENT DEPTH : 3 [TYPE] IfcPlate [GUID] (2r96lA0An0NwRBAVwiK2_y) [NAME] MASSIVBAU\n",
            "<__main__.Node object at 0x7b66d59e7b10>\n",
            "CURRENT DEPTH : 3 [TYPE] IfcPlate [GUID] (0wBbn60vTDFQIBJSt2Kxu1) [NAME] MASSIVBAU\n",
            "<__main__.Node object at 0x7b66d59e7210>\n",
            "CURRENT DEPTH : 3 [TYPE] IfcPlate [GUID] (0_zmKGFZT4kxo63gRspfz4) [NAME] MASSIVBAU\n",
            "<__main__.Node object at 0x7b66d5adc490>\n",
            "CURRENT DEPTH : 3 [TYPE] IfcPlate [GUID] (0cjix4m455BA$$o$flg5j2) [NAME] MASSIVBAU\n",
            "<__main__.Node object at 0x7b66d5cd0050>\n",
            "CURRENT DEPTH : 3 [TYPE] IfcPlate [GUID] (3mIi9x$yT98v13Zy_bO1CS) [NAME] MASSIVBAU\n",
            "<__main__.Node object at 0x7b66d5adc510>\n",
            "CURRENT DEPTH : 3 [TYPE] IfcPlate [GUID] (3t8u5HudD739eegR4TRdMC) [NAME] MASSIVBAU\n",
            "<__main__.Node object at 0x7b66d5adc550>\n",
            "CURRENT DEPTH : 3 [TYPE] IfcPlate [GUID] (0Yc4syf4PDDxAS1zEju1yE) [NAME] MASSIVBAU\n",
            "<__main__.Node object at 0x7b66d5adc590>\n",
            "CURRENT DEPTH : 3 [TYPE] IfcPlate [GUID] (2NOjpT$$H2AgwcqQzaEsml) [NAME] MASSIVBAU\n",
            "<__main__.Node object at 0x7b66d59f3e50>\n",
            "CURRENT DEPTH : 3 [TYPE] IfcPlate [GUID] (1ukZDtp$zCfAE3wiM7aNVz) [NAME] MASSIVBAU\n",
            "<__main__.Node object at 0x7b66d5adc610>\n",
            "CURRENT DEPTH : 3 [TYPE] IfcPlate [GUID] (0HhC2zw0b2QxJr2VUvjxAk) [NAME] MASSIVBAU\n",
            "<__main__.Node object at 0x7b66d5adc650>\n",
            "CURRENT DEPTH : 3 [TYPE] IfcWall [GUID] (33XRY4NB55XwyWCOVwXcsU) [NAME] Hüllkörper\n",
            "<__main__.Node object at 0x7b66d5a01650>\n",
            "CURRENT DEPTH : 3 [TYPE] IfcWall [GUID] (0DSuH8t998Hhqax8L4LqFc) [NAME] Hüllkörper\n",
            "<__main__.Node object at 0x7b66d5adc6d0>\n",
            "CURRENT DEPTH : 3 [TYPE] IfcWall [GUID] (3cvnlegwL1XfRQt$Dky8EZ) [NAME] Hüllkörper\n",
            "<__main__.Node object at 0x7b66d5adc710>\n",
            "CURRENT DEPTH : 3 [TYPE] IfcWall [GUID] (3JLg7D0o1AxAApPtQkhzFE) [NAME] Hüllkörper\n",
            "<__main__.Node object at 0x7b66d5bd6750>\n",
            "CURRENT DEPTH : 3 [TYPE] IfcWall [GUID] (068F5TC_v4EQ3ubAAEbl3W) [NAME] Hüllkörper\n",
            "<__main__.Node object at 0x7b66d5bbe790>\n",
            "CURRENT DEPTH : 3 [TYPE] IfcWall [GUID] (2qKUPk0Mr8Dw_zXf4gWsYG) [NAME] Hüllkörper\n",
            "<__main__.Node object at 0x7b66d5adc7d0>\n",
            "CURRENT DEPTH : 3 [TYPE] IfcWall [GUID] (365vuaVxj5$ecwv8qdJdx0) [NAME] Hüllkörper\n",
            "<__main__.Node object at 0x7b66d5cd3090>\n",
            "Function ended, No more spatial child\n"
          ]
        }
      ]
    },
    {
      "cell_type": "markdown",
      "source": [
        "## Test for intersecton"
      ],
      "metadata": {
        "id": "2v3Tj7Z07s0B"
      }
    },
    {
      "cell_type": "code",
      "source": [
        "len(graph)"
      ],
      "metadata": {
        "colab": {
          "base_uri": "https://localhost:8080/"
        },
        "id": "UwzytvOzlLKO",
        "outputId": "aac898b4-63fb-44b4-dbda-2cc3e7cc5c67"
      },
      "execution_count": 17,
      "outputs": [
        {
          "output_type": "execute_result",
          "data": {
            "text/plain": [
              "186"
            ]
          },
          "metadata": {},
          "execution_count": 17
        }
      ]
    },
    {
      "cell_type": "code",
      "source": [
        "proxy1 = model1.by_guid(\"3hP3TktpfEHuFubiINX0a$\")\n",
        "proxy2 = model1.by_guid(\"3o14as6$P1GQOeedYgIq1J\")\n",
        "a1 = get_geometry_info(proxy1, True)[-1]\n",
        "a2 = np.around(get_geometry_info(proxy2, True)[-1])"
      ],
      "metadata": {
        "id": "cWTD5pnY7Zx4"
      },
      "execution_count": 18,
      "outputs": []
    },
    {
      "cell_type": "code",
      "source": [
        "a1"
      ],
      "metadata": {
        "colab": {
          "base_uri": "https://localhost:8080/"
        },
        "id": "cWkWdTsHAXxr",
        "outputId": "988f1cb2-ef00-4f4e-8ab7-622e3da2ead8"
      },
      "execution_count": 19,
      "outputs": [
        {
          "output_type": "execute_result",
          "data": {
            "text/plain": [
              "array([[0.45, 0.49, 6.25],\n",
              "       [0.45, 0.49, 8.18],\n",
              "       [0.  , 0.49, 8.18],\n",
              "       [0.  , 0.49, 6.25],\n",
              "       [0.  , 6.51, 6.25],\n",
              "       [0.45, 6.51, 6.25],\n",
              "       [0.  , 6.51, 8.18],\n",
              "       [0.45, 6.51, 8.18]])"
            ]
          },
          "metadata": {},
          "execution_count": 19
        }
      ]
    },
    {
      "cell_type": "code",
      "source": [
        "a2[:15]"
      ],
      "metadata": {
        "colab": {
          "base_uri": "https://localhost:8080/"
        },
        "id": "a8Eo34daAYfH",
        "outputId": "6e614a33-a2f2-4c2a-bac2-a636853f771b"
      },
      "execution_count": 20,
      "outputs": [
        {
          "output_type": "execute_result",
          "data": {
            "text/plain": [
              "array([[0., 0., 5.],\n",
              "       [0., 0., 5.],\n",
              "       [0., 0., 4.],\n",
              "       [0., 0., 4.],\n",
              "       [0., 7., 5.],\n",
              "       [0., 7., 5.],\n",
              "       [0., 7., 4.],\n",
              "       [0., 7., 4.],\n",
              "       [0., 7., 6.],\n",
              "       [0., 7., 6.],\n",
              "       [0., 7., 8.],\n",
              "       [0., 7., 8.],\n",
              "       [0., 0., 6.],\n",
              "       [0., 0., 6.],\n",
              "       [0., 0., 8.]])"
            ]
          },
          "metadata": {},
          "execution_count": 20
        }
      ]
    },
    {
      "cell_type": "code",
      "source": [
        "# Get intersecting subarray\n",
        "\n",
        "def get_intersection(arr1, arr2):\n",
        "    arr1_view = arr1.view([('', arr1.dtype)] * arr1.shape[1])  # Convert rows to structured dtype\n",
        "    arr2_view = arr2.view([('', arr2.dtype)] * arr2.shape[1])  # Convert rows to structured dtype\n",
        "    intersection = np.intersect1d(arr1_view, arr2_view)  # Find intersecting rows\n",
        "    return intersection.view(arr1.dtype).reshape(-1, arr1.shape[1])\n",
        "\n",
        "\n",
        "get_intersection(a1,a2)"
      ],
      "metadata": {
        "colab": {
          "base_uri": "https://localhost:8080/"
        },
        "id": "zyTIK5sFBavL",
        "outputId": "794ebef6-743f-49fd-aeff-4b02ad4f45d8"
      },
      "execution_count": 21,
      "outputs": [
        {
          "output_type": "execute_result",
          "data": {
            "text/plain": [
              "array([], shape=(0, 3), dtype=float64)"
            ]
          },
          "metadata": {},
          "execution_count": 21
        }
      ]
    },
    {
      "cell_type": "code",
      "source": [
        "proxy1 = model1.by_guid(\"3hP3TktpfEHuFubiINX0a$\")\n",
        "proxy2 = model1.by_guid(\"3o14as6$P1GQOeedYgIq1J\")\n",
        "print(proxy1)\n",
        "\n",
        "print(proxy2)"
      ],
      "metadata": {
        "colab": {
          "base_uri": "https://localhost:8080/"
        },
        "id": "WSrUyRfyJRmi",
        "outputId": "47fdd429-d49a-48ca-b77d-f27843e72c36"
      },
      "execution_count": 22,
      "outputs": [
        {
          "output_type": "stream",
          "name": "stdout",
          "text": [
            "#7365=IfcBuildingElementProxy('3hP3TktpfEHuFubiINX0a$',#7,'Hüllkörper','',$,#7366,#7371,$,.NOTDEFINED.)\n",
            "#638=IfcBuildingElementProxy('3o14as6$P1GQOeedYgIq1J',#7,'Hüllkörper','',$,#641,#646,$,.NOTDEFINED.)\n"
          ]
        }
      ]
    },
    {
      "cell_type": "code",
      "source": [
        "import ifcopenshell\n",
        "import multiprocessing\n",
        "\n",
        "proxy1 = model1.by_guid(\"3hP3TktpfEHuFubiINX0a$\")\n",
        "proxy2 = model1.by_guid(\"3o14as6$P1GQOeedYgIq1J\")\n",
        "\n",
        "def get_adjacent_nodes(model, node, tolerance = 0.001):\n",
        "  # Query neighboruing elements using BVH\n",
        "  # setup BVH tree\n",
        "  tree_settings = ifcopenshell.geom.settings()\n",
        "  iterator = ifcopenshell.geom.iterator(\n",
        "      tree_settings, model\n",
        "  )\n",
        "\n",
        "  assert iterator.initialize()\n",
        "  t = ifcopenshell.geom.tree()\n",
        "\n",
        "  while True:\n",
        "      t.add_element(iterator.get_native())\n",
        "      # shape = iterator.get()\n",
        "      if not iterator.next():\n",
        "          break\n",
        "\n",
        "  result = t.select(proxy1,  extend=tolerance)\n",
        "\n",
        "  adj_nodes = [connection.GlobalId for connection in result]\n",
        "\n",
        "  return adj_nodes\n",
        "\n",
        "\n",
        "print(get_adjacent_nodes(model1, proxy1))"
      ],
      "metadata": {
        "colab": {
          "base_uri": "https://localhost:8080/"
        },
        "id": "UbZOCCUOcOqy",
        "outputId": "e5678bd4-4940-4a4f-8dda-d4b5285f2cc2"
      },
      "execution_count": 23,
      "outputs": [
        {
          "output_type": "stream",
          "name": "stdout",
          "text": [
            "['06nvdZ9eD2hRHyN$osqr9$', '3JLg7D0o1AxAApPtQkhzFE', '3hP3TktpfEHuFubiINX0a$', '3B5zlsgnn3yQQsKceDiDur', '1NgYdGC$53BAfmfU$o8h4$', '3o14as6$P1GQOeedYgIq1J']\n"
          ]
        }
      ]
    },
    {
      "cell_type": "code",
      "source": [
        "adj_nodes = get_adjacent_nodes(model1, proxy1)\n",
        "adj_nodes = [model1.by_guid(guid) for guid in adj_nodes]"
      ],
      "metadata": {
        "id": "CFbRZy-tL3GB"
      },
      "execution_count": 31,
      "outputs": []
    },
    {
      "cell_type": "markdown",
      "source": [
        "We have a function get the adjacent node, now lets build the graph !"
      ],
      "metadata": {
        "id": "s51ZyLWOjZvo"
      }
    },
    {
      "cell_type": "code",
      "source": [
        "for key, node in graph.node_dict.items():\n",
        "  adj_nodes_guid = get_adjacent_nodes(model1, node)\n",
        "  node.near = [graph.node_dict[guid] for guid in adj_nodes_guid]"
      ],
      "metadata": {
        "id": "SPzHogoshcRX"
      },
      "execution_count": 24,
      "outputs": []
    },
    {
      "cell_type": "code",
      "source": [
        "# Check if its correct\n",
        "first_node = graph.node_dict[\"1AgH95SW53R8Ty1FOWUW43\"]\n",
        "print([node.guid for node in first_node.near])"
      ],
      "metadata": {
        "colab": {
          "base_uri": "https://localhost:8080/"
        },
        "id": "YCkVigsmt1Kt",
        "outputId": "e464212b-0b24-4e29-f947-689b8cbc27e5"
      },
      "execution_count": 25,
      "outputs": [
        {
          "output_type": "stream",
          "name": "stdout",
          "text": [
            "['06nvdZ9eD2hRHyN$osqr9$', '3JLg7D0o1AxAApPtQkhzFE', '3hP3TktpfEHuFubiINX0a$', '3B5zlsgnn3yQQsKceDiDur', '1NgYdGC$53BAfmfU$o8h4$', '3o14as6$P1GQOeedYgIq1J']\n"
          ]
        }
      ]
    },
    {
      "cell_type": "code",
      "source": [
        "def get_direct_connection(entity, graph):\n",
        "  search_key = entity.GlobalId\n",
        "\n",
        "  node = graph.node_dict[search_key]\n",
        "  string1 = node.psets[\"Cadwork3dProperties\"][\"BTA TYP\"]\n",
        "  connections = [string1 + \"//\" + graph.node_dict[node.guid].psets[\"Cadwork3dProperties\"][\"BTA TYP\"] for node in node.near]\n",
        "\n",
        "  return connections\n",
        "\n",
        "def get_indirect_connection(entity, graph):\n",
        "  search_key = entity.GlobalId\n",
        "\n",
        "  node = graph.node_dict[search_key]"
      ],
      "metadata": {
        "id": "jIKHEoeVuUan"
      },
      "execution_count": 26,
      "outputs": []
    },
    {
      "cell_type": "code",
      "source": [
        "entity = model1.by_guid(\"3hP3TktpfEHuFubiINX0a$\")\n",
        "print(get_direct_connection(entity, graph))"
      ],
      "metadata": {
        "colab": {
          "base_uri": "https://localhost:8080/"
        },
        "id": "6-f_eoElyXzP",
        "outputId": "e2d4d92f-7d0e-416e-8e57-fbb18dc2ee84"
      },
      "execution_count": 30,
      "outputs": [
        {
          "output_type": "stream",
          "name": "stdout",
          "text": [
            "['Fenster 16.1//IS 15.1', 'Fenster 16.1//IW 3.2', 'Fenster 16.1//Fenster 16.1', 'Fenster 16.1//Tragwerk', 'Fenster 16.1//AW 1.1', 'Fenster 16.1//FA 2.2']\n"
          ]
        }
      ]
    },
    {
      "cell_type": "code",
      "source": [
        "def dfs_traverse(base_node, max_depth = 100, depth=0, list_contained_elements = True):\n",
        "\n",
        "  print(f\"CURRENT DEPTH : {depth} [TYPE] {base_node.is_a()} [GUID] ({base_node.GlobalId}) [NAME] {base_node.Name}\")\n",
        "\n",
        "  if depth > max_depth:\n",
        "    print(\"Max_depth is reached\")\n",
        "    return\n",
        "\n",
        "\n",
        "  # Since the elements e.g columns and wall contained are (surprinsingly) not as part of the spatial hierachy\n",
        "  if hasattr(base_node, \"ContainsElements\") and len(base_node.ContainsElements) != 0:\n",
        "    # for element, one need to use .RelatedElement to iterate through it lol\n",
        "    for element_rel in base_node.ContainsElements:\n",
        "      print(f\"Number of contained elements: {len(element_rel.RelatedElements)}\")\n",
        "\n",
        "      if list_contained_elements:\n",
        "        for child_element in element_rel.RelatedElements:\n",
        "          dfs_traverse(child_element, max_depth, depth = depth, list_contained_elements=list_contained_elements)\n",
        "\n",
        "\n",
        "\n",
        "  # Turns out IsDecomposedBy depict more of a spatial hierachy\n",
        "  for child_rel in base_node.IsDecomposedBy:\n",
        "    print(f\"Number of child: {len(child_rel.RelatedObjects)}\")\n",
        "    for child_obj in child_rel.RelatedObjects:\n",
        "      dfs_traverse(child_obj, max_depth, depth = depth +1, list_contained_elements=list_contained_elements)"
      ],
      "metadata": {
        "id": "zzHkejKiGch-"
      },
      "execution_count": 28,
      "outputs": []
    },
    {
      "cell_type": "code",
      "source": [
        "entity.GlobalId"
      ],
      "metadata": {
        "colab": {
          "base_uri": "https://localhost:8080/",
          "height": 35
        },
        "id": "tU477M-ROGR6",
        "outputId": "a27623f4-da5d-4e6d-bb17-2b13441dea56"
      },
      "execution_count": 35,
      "outputs": [
        {
          "output_type": "execute_result",
          "data": {
            "text/plain": [
              "'3hP3TktpfEHuFubiINX0a$'"
            ],
            "application/vnd.google.colaboratory.intrinsic+json": {
              "type": "string"
            }
          },
          "metadata": {},
          "execution_count": 35
        }
      ]
    },
    {
      "cell_type": "code",
      "source": [
        "def loop_detection(graph, start_node, depth = 0, max_depth =3):\n",
        "\n",
        "  if depth> max_depth:\n",
        "      return\n",
        "  visited = set()\n",
        "  routes = {}\n",
        "  print(start_node.GlobalId)\n",
        "  current_node = graph.node_dict[start_node.GlobalId]\n",
        "  print(current_node.name)\n",
        "  visited.add(current_node.guid)\n",
        "  for node in current_node.near:\n",
        "    if node.guid not in visited:\n",
        "      loop_detection(graph, node, depth+1, max_depth)\n",
        "\n",
        "loop_detection(graph,entity)"
      ],
      "metadata": {
        "colab": {
          "base_uri": "https://localhost:8080/",
          "height": 356
        },
        "id": "w5oFbNs0ykFH",
        "outputId": "e1bb15ce-8f05-4781-e6f9-4e9ede832bd9"
      },
      "execution_count": 37,
      "outputs": [
        {
          "output_type": "stream",
          "name": "stdout",
          "text": [
            "3hP3TktpfEHuFubiINX0a$\n",
            "Hüllkörper\n"
          ]
        },
        {
          "output_type": "error",
          "ename": "AttributeError",
          "evalue": "'Node' object has no attribute 'GlobalId'",
          "traceback": [
            "\u001b[0;31m---------------------------------------------------------------------------\u001b[0m",
            "\u001b[0;31mAttributeError\u001b[0m                            Traceback (most recent call last)",
            "\u001b[0;32m<ipython-input-37-c8d4c8ad598b>\u001b[0m in \u001b[0;36m<cell line: 0>\u001b[0;34m()\u001b[0m\n\u001b[1;32m     13\u001b[0m       \u001b[0mloop_detection\u001b[0m\u001b[0;34m(\u001b[0m\u001b[0mgraph\u001b[0m\u001b[0;34m,\u001b[0m \u001b[0mnode\u001b[0m\u001b[0;34m,\u001b[0m \u001b[0mdepth\u001b[0m\u001b[0;34m+\u001b[0m\u001b[0;36m1\u001b[0m\u001b[0;34m,\u001b[0m \u001b[0mmax_depth\u001b[0m\u001b[0;34m)\u001b[0m\u001b[0;34m\u001b[0m\u001b[0;34m\u001b[0m\u001b[0m\n\u001b[1;32m     14\u001b[0m \u001b[0;34m\u001b[0m\u001b[0m\n\u001b[0;32m---> 15\u001b[0;31m \u001b[0mloop_detection\u001b[0m\u001b[0;34m(\u001b[0m\u001b[0mgraph\u001b[0m\u001b[0;34m,\u001b[0m\u001b[0mentity\u001b[0m\u001b[0;34m)\u001b[0m\u001b[0;34m\u001b[0m\u001b[0;34m\u001b[0m\u001b[0m\n\u001b[0m",
            "\u001b[0;32m<ipython-input-37-c8d4c8ad598b>\u001b[0m in \u001b[0;36mloop_detection\u001b[0;34m(graph, start_node, depth, max_depth)\u001b[0m\n\u001b[1;32m     11\u001b[0m   \u001b[0;32mfor\u001b[0m \u001b[0mnode\u001b[0m \u001b[0;32min\u001b[0m \u001b[0mcurrent_node\u001b[0m\u001b[0;34m.\u001b[0m\u001b[0mnear\u001b[0m\u001b[0;34m:\u001b[0m\u001b[0;34m\u001b[0m\u001b[0;34m\u001b[0m\u001b[0m\n\u001b[1;32m     12\u001b[0m     \u001b[0;32mif\u001b[0m \u001b[0mnode\u001b[0m\u001b[0;34m.\u001b[0m\u001b[0mguid\u001b[0m \u001b[0;32mnot\u001b[0m \u001b[0;32min\u001b[0m \u001b[0mvisited\u001b[0m\u001b[0;34m:\u001b[0m\u001b[0;34m\u001b[0m\u001b[0;34m\u001b[0m\u001b[0m\n\u001b[0;32m---> 13\u001b[0;31m       \u001b[0mloop_detection\u001b[0m\u001b[0;34m(\u001b[0m\u001b[0mgraph\u001b[0m\u001b[0;34m,\u001b[0m \u001b[0mnode\u001b[0m\u001b[0;34m,\u001b[0m \u001b[0mdepth\u001b[0m\u001b[0;34m+\u001b[0m\u001b[0;36m1\u001b[0m\u001b[0;34m,\u001b[0m \u001b[0mmax_depth\u001b[0m\u001b[0;34m)\u001b[0m\u001b[0;34m\u001b[0m\u001b[0;34m\u001b[0m\u001b[0m\n\u001b[0m\u001b[1;32m     14\u001b[0m \u001b[0;34m\u001b[0m\u001b[0m\n\u001b[1;32m     15\u001b[0m \u001b[0mloop_detection\u001b[0m\u001b[0;34m(\u001b[0m\u001b[0mgraph\u001b[0m\u001b[0;34m,\u001b[0m\u001b[0mentity\u001b[0m\u001b[0;34m)\u001b[0m\u001b[0;34m\u001b[0m\u001b[0;34m\u001b[0m\u001b[0m\n",
            "\u001b[0;32m<ipython-input-37-c8d4c8ad598b>\u001b[0m in \u001b[0;36mloop_detection\u001b[0;34m(graph, start_node, depth, max_depth)\u001b[0m\n\u001b[1;32m      5\u001b[0m   \u001b[0mvisited\u001b[0m \u001b[0;34m=\u001b[0m \u001b[0mset\u001b[0m\u001b[0;34m(\u001b[0m\u001b[0;34m)\u001b[0m\u001b[0;34m\u001b[0m\u001b[0;34m\u001b[0m\u001b[0m\n\u001b[1;32m      6\u001b[0m   \u001b[0mroutes\u001b[0m \u001b[0;34m=\u001b[0m \u001b[0;34m{\u001b[0m\u001b[0;34m}\u001b[0m\u001b[0;34m\u001b[0m\u001b[0;34m\u001b[0m\u001b[0m\n\u001b[0;32m----> 7\u001b[0;31m   \u001b[0mprint\u001b[0m\u001b[0;34m(\u001b[0m\u001b[0mstart_node\u001b[0m\u001b[0;34m.\u001b[0m\u001b[0mGlobalId\u001b[0m\u001b[0;34m)\u001b[0m\u001b[0;34m\u001b[0m\u001b[0;34m\u001b[0m\u001b[0m\n\u001b[0m\u001b[1;32m      8\u001b[0m   \u001b[0mcurrent_node\u001b[0m \u001b[0;34m=\u001b[0m \u001b[0mgraph\u001b[0m\u001b[0;34m.\u001b[0m\u001b[0mnode_dict\u001b[0m\u001b[0;34m[\u001b[0m\u001b[0mstart_node\u001b[0m\u001b[0;34m.\u001b[0m\u001b[0mGlobalId\u001b[0m\u001b[0;34m]\u001b[0m\u001b[0;34m\u001b[0m\u001b[0;34m\u001b[0m\u001b[0m\n\u001b[1;32m      9\u001b[0m   \u001b[0mprint\u001b[0m\u001b[0;34m(\u001b[0m\u001b[0mcurrent_node\u001b[0m\u001b[0;34m.\u001b[0m\u001b[0mname\u001b[0m\u001b[0;34m)\u001b[0m\u001b[0;34m\u001b[0m\u001b[0;34m\u001b[0m\u001b[0m\n",
            "\u001b[0;31mAttributeError\u001b[0m: 'Node' object has no attribute 'GlobalId'"
          ]
        }
      ]
    },
    {
      "cell_type": "code",
      "source": [],
      "metadata": {
        "id": "_btMBJhdIDMh"
      },
      "execution_count": null,
      "outputs": []
    }
  ]
}